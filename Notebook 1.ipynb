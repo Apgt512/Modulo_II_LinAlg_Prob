{
 "cells": [
  {
   "cell_type": "markdown",
   "id": "c394c7f6",
   "metadata": {},
   "source": [
    "# Clase 03 de mayo de 2023 #"
   ]
  },
  {
   "cell_type": "markdown",
   "id": "8fd4d10d",
   "metadata": {},
   "source": [
    "## Módulo II. Estadística y Probabilidad con Python ##"
   ]
  },
  {
   "cell_type": "markdown",
   "id": "b69c9843",
   "metadata": {},
   "source": [
    "**Calificación**:\n",
    "- Examen **90%**\n",
    "- Participación **10%**  \n",
    "\n",
    "**1 o 2 descansos de 10 minutos**.   \n",
    "\n",
    "**Ejercicios, dudas y comentarios**: andres.garcia@itam.mx\n",
    "\n",
    "Tareas (opcionales) para practicar lo realizado en clase  \n",
    "Puntos extra al realizar tareas y kahoot $ \\rightarrow $ Si juntan **3 puntos** exentan el examen"
   ]
  },
  {
   "cell_type": "markdown",
   "id": "52706b4c",
   "metadata": {},
   "source": [
    "## Conceptos básicos de álgebra lineal #"
   ]
  },
  {
   "cell_type": "code",
   "execution_count": null,
   "id": "5e1e508c",
   "metadata": {},
   "outputs": [],
   "source": [
    "import numpy as np\n",
    "import matplotlib.pyplot as plt"
   ]
  },
  {
   "cell_type": "markdown",
   "id": "338a0b08",
   "metadata": {},
   "source": [
    "### Escalares\n",
    "Nos referimos a un escalar como un único número. Al trabajar con un escalar haremos referencia a la clase de elementos al cuál pertenece por medio de la notación\n",
    "\n",
    "$$\n",
    "    a \\in D\n",
    "$$\n",
    "\n",
    "Donde $a$ es el escalar y $D$ el conjunto al cuál pertenece.  \n",
    "\n",
    "En python, al declarar\n",
    "$$\n",
    " a \\in \\mathbb{R}\n",
    "$$\n",
    "\n",
    "Sería equivalente a tener una variable `a` de tipo `float`"
   ]
  },
  {
   "cell_type": "code",
   "execution_count": null,
   "id": "cbb7996e",
   "metadata": {},
   "outputs": [],
   "source": []
  },
  {
   "cell_type": "markdown",
   "id": "5197138a",
   "metadata": {},
   "source": [
    "### Vectores\n",
    "\n",
    "Un vector es un arreglo ordenado de elementos, todos de la misma clase de elementos. Denotaremos matemáticamente un vector $\\bf x$ en negrillas y la i-ésima entrada del vector por medio de $x_i$\n",
    "\n",
    "$$\n",
    "{\\bf x} = \\begin{bmatrix} \n",
    "x_1 \\\\\n",
    "x_2 \\\\\n",
    "\\vdots \\\\\n",
    "x_N\n",
    "\\end{bmatrix}\n",
    "$$\n",
    "\n",
    "Equivalente a un escalar, al declarar un vector denotaremos el conjunto al cual pertenece y los elementos dentro de este. Por ejemplo, si declaramoos el siguiente vector\n",
    "\n",
    "$$\n",
    "    {\\bf x} \\in \\mathbb{R}^5\n",
    "$$\n",
    "\n",
    "Estaríamos diciendo que $\\bf x$ tiene 5 elementos, cada uno de ellos números reales. En Python, esta representación estaría dada por un numpy array de 5 elementos, cada uno de ellos números flotantes"
   ]
  },
  {
   "cell_type": "markdown",
   "id": "c6fda7ab",
   "metadata": {},
   "source": [
    "**Inicializar arrays numpy**"
   ]
  },
  {
   "cell_type": "code",
   "execution_count": null,
   "id": "f69e0ae4",
   "metadata": {},
   "outputs": [],
   "source": [
    "x = np.array([3.4, 1.4, 0.5, 10.4, 0.0])\n",
    "x"
   ]
  },
  {
   "cell_type": "code",
   "execution_count": null,
   "id": "99e882c2",
   "metadata": {},
   "outputs": [],
   "source": [
    "x2 = np.arange(10)\n",
    "x2"
   ]
  },
  {
   "cell_type": "code",
   "execution_count": null,
   "id": "11d7600a",
   "metadata": {},
   "outputs": [],
   "source": [
    "x3 = np.ones(5)\n",
    "x3"
   ]
  },
  {
   "cell_type": "code",
   "execution_count": null,
   "id": "fd17187f",
   "metadata": {},
   "outputs": [],
   "source": [
    "x4 = np.zeros(8)\n",
    "x4"
   ]
  },
  {
   "cell_type": "code",
   "execution_count": null,
   "id": "42e9c59a",
   "metadata": {},
   "outputs": [],
   "source": [
    "# Vector columna\n",
    "x_col = np.array([ [0], [1], [2]])\n",
    "\n",
    "# Vector fila\n",
    "x_fila = np.array([0, 1, 2, 1])\n",
    "\n",
    "print(x_col,\"\\n\")\n",
    "print(x_fila)"
   ]
  },
  {
   "cell_type": "code",
   "execution_count": null,
   "id": "9e9c3248",
   "metadata": {},
   "outputs": [],
   "source": [
    "# Transpuesta\n",
    "x_col.T"
   ]
  },
  {
   "cell_type": "markdown",
   "id": "d0630dd7",
   "metadata": {},
   "source": [
    "Geométricamente, podemos pensar un vector como una flecha que apunta desde el origen hasta una coordenada dada en un espacio $n$-dimensional"
   ]
  },
  {
   "cell_type": "code",
   "execution_count": null,
   "id": "3f930c36",
   "metadata": {},
   "outputs": [],
   "source": [
    "# Para mostrar las graficas dentro del notebook sin tener que poner\n",
    "# plt.show()\n",
    "%matplotlib inline"
   ]
  },
  {
   "cell_type": "code",
   "execution_count": null,
   "id": "41f04a3e",
   "metadata": {
    "scrolled": false
   },
   "outputs": [],
   "source": [
    "x = np.array([1, 2])\n",
    "y = np.array([4.5, 0.5])\n",
    "\n",
    "plt.arrow(0, 0, 1, 2, width=0.05, length_includes_head=True,\n",
    "          color=\"tab:blue\", )\n",
    "plt.arrow(0, 0, 4.5, 0.5, width=0.05, length_includes_head=True,\n",
    "          color=\"tab:red\")\n",
    "plt.xlim(0, 5)\n",
    "plt.ylim(0, 3)\n",
    "plt.title(r\"Dos vectores en $\\mathbb{R}^2$\", fontsize=17)\n",
    "plt.grid()"
   ]
  },
  {
   "cell_type": "code",
   "execution_count": null,
   "id": "b8e6ab92",
   "metadata": {},
   "outputs": [],
   "source": [
    "x = np.array([1, 2])\n",
    "y = np.array([2.5, 0.5])\n",
    "\n",
    "print(\"Suma vectores (numpy):\", x+y)\n",
    "\n",
    "plt.arrow(0, 0, *x, width=0.05, length_includes_head=True,\n",
    "          color=\"tab:blue\", )\n",
    "plt.arrow(*y, *x, width=0.05, length_includes_head=True,\n",
    "          color=\"tab:blue\", )\n",
    "plt.arrow(0, 0, *y, width=0.05, length_includes_head=True,\n",
    "          color=\"tab:red\")\n",
    "plt.arrow(0, 0, *(x+y), width=0.05, length_includes_head=True,\n",
    "          color=\"tab:orange\")\n",
    "plt.xlim(0, 5)\n",
    "plt.ylim(0, 5)\n",
    "plt.title(r\"Suma de vectores\", fontsize=17)\n",
    "plt.grid()"
   ]
  },
  {
   "cell_type": "code",
   "execution_count": null,
   "id": "5532931c",
   "metadata": {},
   "outputs": [],
   "source": [
    "x = np.array([1, 2])\n",
    "\n",
    "print(\"Multiplicacion escalares (numpy):\", 2*x)\n",
    "\n",
    "plt.arrow(0, 0, *(2*x), width=0.05, length_includes_head=True,\n",
    "          color=\"tab:green\")\n",
    "plt.arrow(0, 0, *x, width=0.05, length_includes_head=True,\n",
    "          color=\"tab:blue\", )\n",
    "plt.xlim(0, 5)\n",
    "plt.ylim(0, 5)\n",
    "plt.title(r\"Multiplicacion por un escalar ($2\\cdot\\vec{v}$)\", fontsize=17)\n",
    "plt.grid()\n",
    "plt.show()"
   ]
  },
  {
   "cell_type": "markdown",
   "id": "661e1aa4",
   "metadata": {},
   "source": [
    "**Producto Punto**  \n",
    "$x\\cdot y=\\sum x_i y_i$"
   ]
  },
  {
   "cell_type": "code",
   "execution_count": null,
   "id": "a87bd8e8",
   "metadata": {},
   "outputs": [],
   "source": [
    "x = np.array([5,1,3])\n",
    "y = np.array([9,0,1])\n",
    "\n",
    "# Producto punto\n",
    "np.dot(x,y)"
   ]
  },
  {
   "cell_type": "code",
   "execution_count": null,
   "id": "1c9651ed",
   "metadata": {},
   "outputs": [],
   "source": [
    "# Operaciones vectores\n",
    "print('Suma elemento a elemento:', x + y)\n",
    "print('Multiplicacion elemento a elemento:', x * y)\n",
    "print('\\nExisten varias formas de calcular el producto punto:')\n",
    "print('Producto punto 1:', np.sum(x * y))\n",
    "print('Producto punto 2:', np.dot(x,y))\n",
    "print('Producto punto 3 : ', np.inner(x,y))\n",
    "print('Producto punto 4: ', x@y)"
   ]
  },
  {
   "cell_type": "code",
   "execution_count": null,
   "id": "47753675",
   "metadata": {},
   "outputs": [],
   "source": [
    "# Multiplicar 4 matrices: A B C D\n",
    "np.dot(A, np.dot(B, np.dot( C, D)))\n",
    "\n",
    "A @ B @ C @ D "
   ]
  },
  {
   "cell_type": "markdown",
   "id": "5fc529d9",
   "metadata": {},
   "source": [
    "**Producto Punto (Ángulo entre dos vectores):**  \n",
    "$v\\cdot w=\\lVert v \\rVert_2 \\lVert w \\rVert_2 \\cos \\theta$"
   ]
  },
  {
   "cell_type": "code",
   "execution_count": null,
   "id": "7c640e24",
   "metadata": {},
   "outputs": [],
   "source": []
  },
  {
   "cell_type": "markdown",
   "id": "35b46b1d",
   "metadata": {},
   "source": [
    "**Norma $L_p$ de un vector** <br>\n",
    "\n",
    "En álgebra lineal, la norma $L_p$ se refiere a una medida de la magnitud de un vector o matriz en un espacio vectorial. La norma $L_p$ de un vector $v$ se define formalmente como:\n",
    "\n",
    "Sea $\\mathbf{v}$ un vector con elementos $v_{i}$ con $v_{i} \\in \\mathbb{R} \\, \\forall i  \\, \\in \\mathbb{N}$. La norma $L_{p}$ de un vector, denotada por $||\\mathbf{v}||_{p}$ es dada por \n",
    "\n",
    "$$ ||\\mathbf{v}||_{p} = (\\sum |v_i|^p)^{1/p} $$\n",
    "\n",
    "Donde $v_1, v_2, ..., v_n$ son las coordenadas del vector $\\mathbf{v}$, y $p \\in \\mathbb{R}^{+}$.\n",
    "\n",
    "En la práctica, las normas $L_p$ se utilizan para medir la \"distancia\" entre dos vectores o para establecer umbrales de error en la solución de sistemas de ecuaciones lineales. En particular, la norma $L_2$ (también conocida como norma euclidiana) es muy común en aplicaciones de probabilidad y esatistica. En general, cuanto mayor es el valor de $p$, más \"importancia\" se le da a los componentes más grandes del vector. \n",
    "\n",
    "El siguiente grafico muestra las regiones generadas por las diferentes normas $L_p$ calculadas utilizando los vectores que generan el circulo unitario.\n",
    "\n",
    "![Normas Lp](img/LpNorms.jpg)\n",
    "\n",
    "De momento nos concentraremos en estudiar los casos $p=2$ (norma euclideana) y $p=\\infty$ (norma máxima), respectivamente:\n",
    "\n",
    "$$ ||\\mathbf{v}||_{2} = (\\sum |v_i|^2)^{1/2} $$\n",
    "$$ ||\\mathbf{v}||_{\\infty} = \\text{max}(v_{1}, v_{2}, ... ,v_{n}) $$"
   ]
  },
  {
   "cell_type": "markdown",
   "id": "7ba54db1",
   "metadata": {},
   "source": [
    "**Transformaciones lineales** <br>\n",
    "Una transformación lineal es una función que transforma un vector en otro vector, de tal manera que se preservan la suma y la multiplicación por un escalar. Formalmente, una transformación lineal $f$ es una función que satisface las siguientes propiedades:\n",
    "\n",
    "- $\\forall \\, u, v \\in f^{-1}, \\, f(u + v) = f(u) + f(v)$.\n",
    "\n",
    "- $\\forall \\, a \\in \\mathbb{R} \\wedge v \\in V, \\, f(av) = a f(v)$"
   ]
  },
  {
   "cell_type": "code",
   "execution_count": null,
   "id": "7b8fd709",
   "metadata": {},
   "outputs": [],
   "source": [
    "# Definimos 2 vectores arbitrariamente\n",
    "x = np.array([1,2])\n",
    "y = np.array([3,4])\n",
    "\n",
    "# Definimos 2 escalares arbitrariamente\n",
    "a = 2\n",
    "b = 3\n",
    "\n",
    "# Definimos una función LINEAL\n",
    "def f_lineal(vector):\n",
    "    return vector / 2\n",
    "# Y otra no lineal\n",
    "def f_nonlinear(vector):\n",
    "    return vector**2\n",
    "\n",
    "print('Función lineal')\n",
    "print( f_lineal(2*x+3*y) )\n",
    "print( a*(f_lineal(x))+b*f_lineal(y) )\n",
    "print()\n",
    "print('Función No lineal')\n",
    "print( f_nonlinear(2*x+3*y) )\n",
    "print( a*(f_nonlinear(x))+b*f_nonlinear(y) )"
   ]
  },
  {
   "cell_type": "markdown",
   "id": "12d0eeb3",
   "metadata": {},
   "source": [
    "### Dependencia e independencia lineal ###"
   ]
  },
  {
   "cell_type": "markdown",
   "id": "daff7781",
   "metadata": {},
   "source": [
    "Una colección de tamaño $n$ de vectores $\\vec{v_i}$ es linealmente independiente si:  \n",
    "$\\beta_1\\vec{v_1}+...+\\beta_n\\vec{v_n}=0$  \n",
    "solo se cumple cuando todas las $\\beta$ son iguales a 0."
   ]
  },
  {
   "cell_type": "code",
   "execution_count": null,
   "id": "5f71ff13",
   "metadata": {},
   "outputs": [],
   "source": [
    "x = np.array([0,1])\n",
    "y = np.array([0,2])\n",
    "\n",
    "v_zero = np.array([0,0])"
   ]
  },
  {
   "cell_type": "code",
   "execution_count": null,
   "id": "c550e4d3",
   "metadata": {},
   "outputs": [],
   "source": [
    "0*x + 0*y"
   ]
  },
  {
   "cell_type": "code",
   "execution_count": null,
   "id": "3fde9d2c",
   "metadata": {},
   "outputs": [],
   "source": [
    "(-2)*x + (1)*y"
   ]
  },
  {
   "cell_type": "markdown",
   "id": "5600274a",
   "metadata": {},
   "source": [
    "Para dos vectores $x$ e $y$ y dos escalares $a$ y $b$, $F$ es una **transformación lineal** si:  \n",
    "$F(ax+by)=aF(x)+bF(y)$"
   ]
  },
  {
   "cell_type": "code",
   "execution_count": null,
   "id": "ea1f220f",
   "metadata": {},
   "outputs": [],
   "source": [
    "x = np.array([1,2])\n",
    "y = np.array([3,4])\n",
    "\n",
    "a = 2\n",
    "b = 3\n",
    "# Saquemos el valor negativo de nuestro vector\n",
    "def f(vector):\n",
    "    return -1*vector\n",
    "\n",
    "print(f(2*x+3*y))\n",
    "print(a*(f(x))+b*f(y))"
   ]
  },
  {
   "cell_type": "markdown",
   "id": "33d32537",
   "metadata": {},
   "source": [
    "### Ejercicios ###\n",
    "1. Calcula el valor promedio de un vector usando el producto punto\n",
    "2. Calcula el valor presente de una serie de flujos anuales de \\$100 por 15 años suponiendo una tasa anual constante del 8% (anualidad vencida).\n",
    "3. La distancia entre dos vectores $x$ e $y$ está dada por $\\lVert x-y \\rVert_2$. Escribe una función que encuentre el vecino más cercano de un vector entre una lista de vectores.\n",
    "4. Crea una función que tome como entrada dos vectores de las mismas dimensiones y una tolerancia positiva y cercana a 0. El resultado debe ser True si el angulo entre los dos vectores menos pi/2 es menor que la tolerancia. En caso contrario regresar False.  \n",
    "5. Crea una función que tome como entrada dos strings y una tolerancia positiva y cercana a 0. A partir de las strings deberás construir dos vectores, en los que el primer elemento será el número de 'a' en el string, el segundo de 'b' y así sucesivamente. El output debe ser 1 si el ángulo entre los dos vectores es menor a la tolerancia."
   ]
  },
  {
   "cell_type": "code",
   "execution_count": null,
   "id": "7873567a",
   "metadata": {},
   "outputs": [],
   "source": []
  },
  {
   "cell_type": "markdown",
   "id": "3157a9dc",
   "metadata": {},
   "source": [
    "### Matrices\n",
    "\n",
    "Una matriz $\\bf X$ es un arreglo bi-dimensional de números (equivalente a un numpy array con `ndim == 2`). Denotaremos la $(i, j)$-ésima entrada de una matriz $\\bf X$ por medio de $X_{i,j}$.\n",
    "\n",
    "$$\n",
    "{\\bf X} = \\begin{bmatrix}\n",
    "x_{1,1} & x_{1,2} & \\ldots & x_{1,M} \\\\\n",
    "x_{1,1} & x_{1,2} & \\ldots & x_{2,M} \\\\\n",
    "\\vdots & \\vdots & \\vdots & \\vdots \\\\\n",
    "x_{N,1} & x_{N,2} & \\ldots & x_{N,M}\n",
    "\\end{bmatrix}\n",
    "$$\n",
    "\n",
    "A fin de hacer la notación más compacta, declararemos una matriz $\\bf A$ con $N$ filas y $M$ columnas como\n",
    "\n",
    "$$\n",
    "    {\\bf A} \\in \\mathbb{R}^{N\\times M}\n",
    "$$\n",
    "\n",
    "* De una manera geométrica, una matriz representa una _transformación lineal_ de un espacio en $\\mathbb{R}^n$. Un ejemplo visual de esto se puede encontrar [aquí](https://www.geogebra.org/m/YCZa8TAH)."
   ]
  },
  {
   "cell_type": "markdown",
   "id": "b8cbf075",
   "metadata": {},
   "source": [
    "**Algunas matrices particulares**\n",
    "1. Una matriz ${\\bf A} \\in \\mathbb{R}^{n\\times n}$ es conocida como una matriz cuadrada\n",
    "2. Denotamos la matriz identidad $\\bf I\\in \\mathbb{R}^{n\\times n}$ como una matriz cuadrada tal que $I_{i,j} = \\mathbb{1}_{i=j}$\n",
    "3. Matemáticamente, expresamos un vector como un vector columna, es decir, ${\\bf a} \\in \\mathbb{R}^{n\\times 1}$."
   ]
  },
  {
   "cell_type": "code",
   "execution_count": null,
   "id": "7b88fd26",
   "metadata": {},
   "outputs": [],
   "source": [
    "np.array([\n",
    "    [1,2,3],\n",
    "    [4,5,6],\n",
    "    [7,8,9]\n",
    "])"
   ]
  },
  {
   "cell_type": "code",
   "execution_count": null,
   "id": "1aaefbdc",
   "metadata": {},
   "outputs": [],
   "source": [
    "np.ones((5,10))"
   ]
  },
  {
   "cell_type": "code",
   "execution_count": null,
   "id": "8021e6cb",
   "metadata": {},
   "outputs": [],
   "source": [
    "a = np.matrix('1 2; 3 4')\n",
    "a"
   ]
  },
  {
   "cell_type": "code",
   "execution_count": null,
   "id": "c5acc3e8",
   "metadata": {},
   "outputs": [],
   "source": [
    "a = np.arange(20)\n",
    "a"
   ]
  },
  {
   "cell_type": "code",
   "execution_count": null,
   "id": "e7d00667",
   "metadata": {},
   "outputs": [],
   "source": [
    "a = a.reshape(4,5)\n",
    "a"
   ]
  },
  {
   "cell_type": "code",
   "execution_count": null,
   "id": "9feb6401",
   "metadata": {},
   "outputs": [],
   "source": [
    "np.identity(5)"
   ]
  },
  {
   "cell_type": "markdown",
   "id": "66a91ff3",
   "metadata": {},
   "source": [
    "**Propiedades de matrices en numpy**"
   ]
  },
  {
   "cell_type": "code",
   "execution_count": null,
   "id": "07dffed8",
   "metadata": {},
   "outputs": [],
   "source": [
    "# Dimensiones de la matriz\n",
    "a.shape"
   ]
  },
  {
   "cell_type": "code",
   "execution_count": null,
   "id": "27996ee9",
   "metadata": {},
   "outputs": [],
   "source": [
    "# Numero de elementos\n",
    "a.size"
   ]
  },
  {
   "cell_type": "code",
   "execution_count": null,
   "id": "9f4556b4",
   "metadata": {},
   "outputs": [],
   "source": [
    "# Tipo de datos\n",
    "a.dtype"
   ]
  },
  {
   "cell_type": "markdown",
   "id": "ffb9c48e",
   "metadata": {},
   "source": [
    "**Selección de elementos de una matriz**"
   ]
  },
  {
   "cell_type": "code",
   "execution_count": null,
   "id": "838e1bcd",
   "metadata": {},
   "outputs": [],
   "source": [
    "x = a\n",
    "x"
   ]
  },
  {
   "cell_type": "code",
   "execution_count": null,
   "id": "1c9cd240",
   "metadata": {},
   "outputs": [],
   "source": [
    "x[1,0] # fila 1, columna 0"
   ]
  },
  {
   "cell_type": "code",
   "execution_count": null,
   "id": "809a0c7f",
   "metadata": {},
   "outputs": [],
   "source": [
    "x[1] # fila 1"
   ]
  },
  {
   "cell_type": "code",
   "execution_count": null,
   "id": "8f705dbf",
   "metadata": {},
   "outputs": [],
   "source": [
    "x[1][0] # fila 1, columna 0"
   ]
  },
  {
   "cell_type": "code",
   "execution_count": null,
   "id": "179ba2a3",
   "metadata": {},
   "outputs": [],
   "source": [
    "# Todos los elementos de la primera columna\n",
    "x[:,0]"
   ]
  },
  {
   "cell_type": "code",
   "execution_count": null,
   "id": "4d5dad5a",
   "metadata": {},
   "outputs": [],
   "source": [
    "# Todos los elementos de la primera fila\n",
    "x[0,:]"
   ]
  },
  {
   "cell_type": "code",
   "execution_count": null,
   "id": "45fffd52",
   "metadata": {},
   "outputs": [],
   "source": [
    "x[0]"
   ]
  },
  {
   "cell_type": "markdown",
   "id": "eb792a2c",
   "metadata": {},
   "source": [
    "**Operaciones**"
   ]
  },
  {
   "cell_type": "code",
   "execution_count": null,
   "id": "8d0afd9b",
   "metadata": {},
   "outputs": [],
   "source": [
    "x"
   ]
  },
  {
   "cell_type": "code",
   "execution_count": null,
   "id": "eec6ffeb",
   "metadata": {},
   "outputs": [],
   "source": [
    "# Transpuesta matriz\n",
    "x.T"
   ]
  },
  {
   "cell_type": "code",
   "execution_count": null,
   "id": "eb4b0a1b",
   "metadata": {},
   "outputs": [],
   "source": [
    "# Multiplicaciones por un escalar\n",
    "5 * x"
   ]
  },
  {
   "cell_type": "code",
   "execution_count": null,
   "id": "4ca7fb6b",
   "metadata": {},
   "outputs": [],
   "source": [
    "# Suma de matrices\n",
    "y = np.ones((4,5))\n",
    "print(y)\n",
    "x + y"
   ]
  },
  {
   "cell_type": "code",
   "execution_count": null,
   "id": "f9d7d246",
   "metadata": {},
   "outputs": [],
   "source": [
    "# Multiplicacion elemento a elemento\n",
    "y = np.zeros((4,5))\n",
    "x * y"
   ]
  },
  {
   "attachments": {
    "image-2.png": {
     "image/png": "[encoded data removed]"
    },
    "image-3.png": {
     "image/png": "[encoded data removed]"
    }
   },
   "cell_type": "markdown",
   "id": "50726b34",
   "metadata": {},
   "source": [
    "**Multiplicación de matrices**\n",
    "![image-2.png](attachment:image-2.png)\n",
    "![image-3.png](attachment:image-3.png)"
   ]
  },
  {
   "cell_type": "code",
   "execution_count": null,
   "id": "c67de0f7",
   "metadata": {},
   "outputs": [],
   "source": [
    "x"
   ]
  },
  {
   "cell_type": "code",
   "execution_count": null,
   "id": "e2be3749",
   "metadata": {},
   "outputs": [],
   "source": [
    "y = np.ones((5,4))\n",
    "y"
   ]
  },
  {
   "cell_type": "code",
   "execution_count": null,
   "id": "1d15542d",
   "metadata": {},
   "outputs": [],
   "source": [
    "x @ y"
   ]
  },
  {
   "cell_type": "code",
   "execution_count": null,
   "id": "03abfa01",
   "metadata": {},
   "outputs": [],
   "source": [
    "np.dot(x, y)"
   ]
  },
  {
   "cell_type": "markdown",
   "id": "48238e95",
   "metadata": {},
   "source": [
    "### Ejercicios ###\n",
    "1. Haz un ejemplo en el que verifiques que para las matrices se cumple la propiedad: $A(B+C)=AB+AC$.\n",
    "2. Implementa la multiplicación de una matriz de 2x4 y una matriz de 4x3."
   ]
  },
  {
   "cell_type": "code",
   "execution_count": null,
   "id": "0868271f",
   "metadata": {},
   "outputs": [],
   "source": []
  },
  {
   "cell_type": "markdown",
   "id": "b67e9063",
   "metadata": {},
   "source": [
    "**Determinante**"
   ]
  },
  {
   "cell_type": "code",
   "execution_count": null,
   "id": "35675c49",
   "metadata": {},
   "outputs": [],
   "source": [
    "A = np.arange(1,5).reshape((2,2))\n",
    "np.linalg.det(A)"
   ]
  },
  {
   "cell_type": "markdown",
   "id": "08d93656",
   "metadata": {},
   "source": [
    "**Inversa de una matriz**: Es análogo a la inversa de un número.  \n",
    "N es la inversa de la matriz M si:  \n",
    "$M\\cdot N=I$"
   ]
  },
  {
   "cell_type": "code",
   "execution_count": null,
   "id": "531b79ac",
   "metadata": {},
   "outputs": [],
   "source": [
    "np.linalg.inv(A)"
   ]
  },
  {
   "cell_type": "code",
   "execution_count": null,
   "id": "98a93302",
   "metadata": {},
   "outputs": [],
   "source": [
    "A @ np.linalg.inv(A)"
   ]
  },
  {
   "cell_type": "code",
   "execution_count": null,
   "id": "f838f5fd",
   "metadata": {},
   "outputs": [],
   "source": [
    "# Si el determinante de una matriz es 0 quiere decir que la matriz es singular (no tiene inversa)\n",
    "X = np.array([\n",
    "    [0, 1, 0],\n",
    "    [0, 0, 0],\n",
    "    [1, 0, 1]\n",
    "])\n",
    "X"
   ]
  },
  {
   "cell_type": "code",
   "execution_count": null,
   "id": "ec17a1f1",
   "metadata": {},
   "outputs": [],
   "source": [
    "np.linalg.det(X)"
   ]
  },
  {
   "cell_type": "code",
   "execution_count": null,
   "id": "644b6d17",
   "metadata": {},
   "outputs": [],
   "source": [
    "# Debe dar error!\n",
    "np.linalg.inv(X)"
   ]
  },
  {
   "cell_type": "markdown",
   "id": "fcce0a62",
   "metadata": {},
   "source": [
    "**Rango**: El rango de una matriz A de m x n es el número de columnas o filas linealmente independientes."
   ]
  },
  {
   "cell_type": "code",
   "execution_count": null,
   "id": "764bbf82",
   "metadata": {},
   "outputs": [],
   "source": [
    "X"
   ]
  },
  {
   "cell_type": "code",
   "execution_count": null,
   "id": "bc652b61",
   "metadata": {},
   "outputs": [],
   "source": [
    "np.linalg.matrix_rank(X)"
   ]
  },
  {
   "cell_type": "code",
   "execution_count": null,
   "id": "841f1544",
   "metadata": {},
   "outputs": [],
   "source": [
    "Y = np.random.random((3,3))\n",
    "Y"
   ]
  },
  {
   "cell_type": "code",
   "execution_count": null,
   "id": "637b319b",
   "metadata": {},
   "outputs": [],
   "source": [
    "np.linalg.matrix_rank(Y)"
   ]
  },
  {
   "cell_type": "markdown",
   "id": "6f195d57",
   "metadata": {},
   "source": [
    "### Ejercicios ###\n",
    "1. Una matriz de rotación de 2 dimensiones está definida como:  \n",
    "$R=\\begin{bmatrix}\n",
    "\\cos{\\theta} & -\\sin{\\theta}\\\\\n",
    "\\sin{\\theta} & \\cos{\\theta}\n",
    "\\end{bmatrix}$  \n",
    "Utiliza una matriz de rotación para rotar el vector (1,1) en 90°."
   ]
  },
  {
   "attachments": {
    "image.png": {
     "image/png": "[encoded data removed]"
    }
   },
   "cell_type": "markdown",
   "id": "b11305c1",
   "metadata": {},
   "source": [
    "2. La convolución de un vector $a$ de tamaño n y un vector $b$ de tamaño m es el vector $c$ denotado por $a\\ast b$ con elementos:  \n",
    "$c_k=\\sum_{i+j=k+1}a_i b_j, k=1,..,n+m-1$  \n",
    "$ c_1 = a_1b_1 $  \n",
    "$ c_2 = a_1b_2 + a_2b_1 $  \n",
    "$ c_3 = a_2b_2 + a_1b_3 + a_3b_1 $\n",
    "\n",
    "En el caso de matrices se puede generalizar, si $A$ es una matriz de m x n y $B$ es una matriz de p x q entonces $C$ será la matriz de (m+p-1)x(n+q-1) con la convolución\n",
    "![image.png](attachment:image.png)\n",
    "Escribe un programa que realice convoluciones de matrices"
   ]
  },
  {
   "cell_type": "code",
   "execution_count": null,
   "id": "5c1e8183",
   "metadata": {},
   "outputs": [],
   "source": []
  }
 ],
 "metadata": {
  "kernelspec": {
   "display_name": "Python 3",
   "language": "python",
   "name": "python3"
  },
  "language_info": {
   "codemirror_mode": {
    "name": "ipython",
    "version": 3
   },
   "file_extension": ".py",
   "mimetype": "text/x-python",
   "name": "python",
   "nbconvert_exporter": "python",
   "pygments_lexer": "ipython3",
   "version": "3.9.6"
  }
 },
 "nbformat": 4,
 "nbformat_minor": 5
}
