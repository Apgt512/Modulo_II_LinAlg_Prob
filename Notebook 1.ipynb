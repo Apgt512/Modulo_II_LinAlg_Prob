{
 "cells": [
  {
   "cell_type": "markdown",
   "id": "c394c7f6",
   "metadata": {},
   "source": [
    "# Clase 03 de mayo de 2023 #"
   ]
  },
  {
   "cell_type": "markdown",
   "id": "8fd4d10d",
   "metadata": {},
   "source": [
    "## Módulo II. Estadística y Probabilidad con Python ##"
   ]
  },
  {
   "cell_type": "markdown",
   "id": "b69c9843",
   "metadata": {},
   "source": [
    "**Calificación**:\n",
    "- Examen **90%**\n",
    "- Participación **10%**  \n",
    "\n",
    "**1 o 2 descansos de 10 minutos**.   \n",
    "\n",
    "**Ejercicios, dudas y comentarios**: andres.garcia@itam.mx\n",
    "\n",
    "Tareas (opcionales) para practicar lo realizado en clase  \n",
    "Puntos extra al realizar tareas y kahoot $ \\rightarrow $ Si juntan **3 puntos** exentan el examen"
   ]
  },
  {
   "cell_type": "markdown",
   "id": "52706b4c",
   "metadata": {},
   "source": [
    "## Conceptos básicos de álgebra lineal #"
   ]
  },
  {
   "cell_type": "code",
   "execution_count": 2,
   "id": "5e1e508c",
   "metadata": {},
   "outputs": [],
   "source": [
    "import numpy as np\n",
    "import matplotlib.pyplot as plt"
   ]
  },
  {
   "cell_type": "markdown",
   "id": "338a0b08",
   "metadata": {},
   "source": [
    "### Escalares\n",
    "Nos referimos a un escalar como un único número. Al trabajar con un escalar haremos referencia a la clase de elementos al cuál pertenece por medio de la notación\n",
    "\n",
    "$$\n",
    "    a \\in D\n",
    "$$\n",
    "\n",
    "Donde $a$ es el escalar y $D$ el conjunto al cuál pertenece.  \n",
    "\n",
    "En python, al declarar\n",
    "$$\n",
    " a \\in \\mathbb{R}\n",
    "$$\n",
    "\n",
    "Sería equivalente a tener una variable `a` de tipo `float`"
   ]
  },
  {
   "cell_type": "code",
   "execution_count": 11,
   "id": "cbb7996e",
   "metadata": {},
   "outputs": [
    {
     "name": "stdout",
     "output_type": "stream",
     "text": [
      "2 <class 'int'>\n",
      "3.14 <class 'float'>\n"
     ]
    }
   ],
   "source": [
    "mi_escalar = 2\n",
    "print(mi_escalar, type(mi_escalar))\n",
    "\n",
    "mi_escalar = 3.14\n",
    "print(mi_escalar, type(mi_escalar))"
   ]
  },
  {
   "cell_type": "markdown",
   "id": "5197138a",
   "metadata": {},
   "source": [
    "### Vectores\n",
    "\n",
    "Un vector es un arreglo ordenado de elementos, todos de la misma clase de elementos. Denotaremos matemáticamente un vector $\\bf x$ en negrillas y la i-ésima entrada del vector por medio de $x_i$\n",
    "\n",
    "$$\n",
    "{\\bf x} = \\begin{bmatrix} \n",
    "x_1 \\\\\n",
    "x_2 \\\\\n",
    "\\vdots \\\\\n",
    "x_N\n",
    "\\end{bmatrix}\n",
    "$$\n",
    "\n",
    "Equivalente a un escalar, al declarar un vector denotaremos el conjunto al cual pertenece y los elementos dentro de este. Por ejemplo, si declaramoos el siguiente vector\n",
    "\n",
    "$$\n",
    "    {\\bf x} \\in \\mathbb{R}^5\n",
    "$$\n",
    "\n",
    "Estaríamos diciendo que $\\bf x$ tiene 5 elementos, cada uno de ellos números reales. En Python, esta representación estaría dada por un numpy array de 5 elementos, cada uno de ellos números flotantes"
   ]
  },
  {
   "cell_type": "markdown",
   "id": "c6fda7ab",
   "metadata": {},
   "source": [
    "**Inicializar arrays numpy**"
   ]
  },
  {
   "cell_type": "code",
   "execution_count": 2,
   "id": "f69e0ae4",
   "metadata": {},
   "outputs": [
    {
     "data": {
      "text/plain": [
       "array([ 3.4,  1.4,  0.5, 10.4,  0. ])"
      ]
     },
     "execution_count": 2,
     "metadata": {},
     "output_type": "execute_result"
    }
   ],
   "source": [
    "x = np.array([3.4, 1.4, 0.5, 10.4, 0.0])\n",
    "x"
   ]
  },
  {
   "cell_type": "code",
   "execution_count": 3,
   "id": "99e882c2",
   "metadata": {},
   "outputs": [
    {
     "data": {
      "text/plain": [
       "array([0, 1, 2, 3, 4, 5, 6, 7, 8, 9])"
      ]
     },
     "execution_count": 3,
     "metadata": {},
     "output_type": "execute_result"
    }
   ],
   "source": [
    "x2 = np.arange(10)\n",
    "x2"
   ]
  },
  {
   "cell_type": "code",
   "execution_count": 4,
   "id": "11d7600a",
   "metadata": {},
   "outputs": [
    {
     "data": {
      "text/plain": [
       "array([1., 1., 1., 1., 1.])"
      ]
     },
     "execution_count": 4,
     "metadata": {},
     "output_type": "execute_result"
    }
   ],
   "source": [
    "x3 = np.ones(5)\n",
    "x3"
   ]
  },
  {
   "cell_type": "code",
   "execution_count": 5,
   "id": "fd17187f",
   "metadata": {},
   "outputs": [
    {
     "data": {
      "text/plain": [
       "array([0., 0., 0., 0., 0., 0., 0., 0.])"
      ]
     },
     "execution_count": 5,
     "metadata": {},
     "output_type": "execute_result"
    }
   ],
   "source": [
    "x4 = np.zeros(8)\n",
    "x4"
   ]
  },
  {
   "cell_type": "code",
   "execution_count": 6,
   "id": "42e9c59a",
   "metadata": {},
   "outputs": [
    {
     "name": "stdout",
     "output_type": "stream",
     "text": [
      "[[0]\n",
      " [1]\n",
      " [2]] \n",
      "\n",
      "[0 1 2 1]\n"
     ]
    }
   ],
   "source": [
    "# Vector columna\n",
    "x_col = np.array([ [0], [1], [2]])\n",
    "\n",
    "# Vector fila\n",
    "x_fila = np.array([0, 1, 2, 1])\n",
    "\n",
    "print(x_col,\"\\n\")\n",
    "print(x_fila)"
   ]
  },
  {
   "cell_type": "code",
   "execution_count": null,
   "id": "9e9c3248",
   "metadata": {},
   "outputs": [],
   "source": [
    "# Transpuesta\n",
    "x_col.T"
   ]
  },
  {
   "cell_type": "markdown",
   "id": "d0630dd7",
   "metadata": {},
   "source": [
    "Geométricamente, podemos pensar un vector como una flecha que apunta desde el origen hasta una coordenada dada en un espacio $n$-dimensional"
   ]
  },
  {
   "cell_type": "code",
   "execution_count": 8,
   "id": "3f930c36",
   "metadata": {},
   "outputs": [],
   "source": [
    "# Para mostrar las graficas dentro del notebook sin tener que poner\n",
    "# plt.show()\n",
    "%matplotlib inline"
   ]
  },
  {
   "cell_type": "code",
   "execution_count": 7,
   "id": "41f04a3e",
   "metadata": {
    "scrolled": false
   },
   "outputs": [
    {
     "data": {
      "image/png": "[encoded data removed]",
      "text/plain": [
       "<Figure size 640x480 with 1 Axes>"
      ]
     },
     "metadata": {},
     "output_type": "display_data"
    }
   ],
   "source": [
    "x = np.array([1, 2])\n",
    "y = np.array([4.5, 0.5])\n",
    "\n",
    "plt.arrow(0, 0, 1, 2, width=0.05, length_includes_head=True,\n",
    "          color=\"tab:blue\", )\n",
    "plt.arrow(0, 0, 4.5, 0.5, width=0.05, length_includes_head=True,\n",
    "          color=\"tab:red\")\n",
    "plt.xlim(0, 5)\n",
    "plt.ylim(0, 3)\n",
    "plt.title(r\"Dos vectores en $\\mathbb{R}^2$\", fontsize=17)\n",
    "plt.grid()"
   ]
  },
  {
   "cell_type": "code",
   "execution_count": 9,
   "id": "b8e6ab92",
   "metadata": {},
   "outputs": [
    {
     "name": "stdout",
     "output_type": "stream",
     "text": [
      "Suma vectores (numpy): [3.5 2.5]\n"
     ]
    },
    {
     "data": {
      "image/png": "[encoded data removed]",
      "text/plain": [
       "<Figure size 640x480 with 1 Axes>"
      ]
     },
     "metadata": {},
     "output_type": "display_data"
    }
   ],
   "source": [
    "x = np.array([1, 2])\n",
    "y = np.array([2.5, 0.5])\n",
    "\n",
    "print(\"Suma vectores (numpy):\", x+y)\n",
    "\n",
    "plt.arrow(0, 0, *x, width=0.05, length_includes_head=True,\n",
    "          color=\"tab:blue\", )\n",
    "plt.arrow(*y, *x, width=0.05, length_includes_head=True,\n",
    "          color=\"tab:blue\", )\n",
    "plt.arrow(0, 0, *y, width=0.05, length_includes_head=True,\n",
    "          color=\"tab:red\")\n",
    "plt.arrow(0, 0, *(x+y), width=0.05, length_includes_head=True,\n",
    "          color=\"tab:orange\")\n",
    "plt.xlim(0, 5)\n",
    "plt.ylim(0, 5)\n",
    "plt.title(r\"Suma de vectores\", fontsize=17)\n",
    "plt.grid()"
   ]
  },
  {
   "cell_type": "code",
   "execution_count": 12,
   "id": "5532931c",
   "metadata": {},
   "outputs": [
    {
     "name": "stdout",
     "output_type": "stream",
     "text": [
      "Multiplicacion escalares (numpy): [2 4]\n"
     ]
    },
    {
     "data": {
      "image/png": "[encoded data removed]",
      "text/plain": [
       "<Figure size 640x480 with 1 Axes>"
      ]
     },
     "metadata": {},
     "output_type": "display_data"
    }
   ],
   "source": [
    "x = np.array([1, 2])\n",
    "\n",
    "print(\"Multiplicacion escalares (numpy):\", 2*x)\n",
    "\n",
    "plt.arrow(0, 0, *(2*x), width=0.05, length_includes_head=True,\n",
    "          color=\"tab:green\")\n",
    "plt.arrow(0, 0, *x, width=0.05, length_includes_head=True,\n",
    "          color=\"tab:blue\", )\n",
    "plt.xlim(0, 5)\n",
    "plt.ylim(0, 5)\n",
    "plt.title(r\"Multiplicacion por un escalar ($2\\cdot\\vec{v}$)\", fontsize=17)\n",
    "plt.grid()\n",
    "plt.show()"
   ]
  },
  {
   "cell_type": "markdown",
   "id": "661e1aa4",
   "metadata": {},
   "source": [
    "**Producto Punto**  \n",
    "$x\\cdot y=\\sum x_i y_i$"
   ]
  },
  {
   "cell_type": "code",
   "execution_count": 13,
   "id": "a87bd8e8",
   "metadata": {},
   "outputs": [
    {
     "data": {
      "text/plain": [
       "48"
      ]
     },
     "execution_count": 13,
     "metadata": {},
     "output_type": "execute_result"
    }
   ],
   "source": [
    "x = np.array([5,1,3])\n",
    "y = np.array([9,0,1])\n",
    "\n",
    "# Producto punto\n",
    "np.dot(x,y)"
   ]
  },
  {
   "cell_type": "code",
   "execution_count": 15,
   "id": "1c9651ed",
   "metadata": {},
   "outputs": [
    {
     "name": "stdout",
     "output_type": "stream",
     "text": [
      "Suma elemento a elemento: [14  1  4]\n",
      "Multiplicacion elemento a elemento: [45  0  3]\n",
      "\n",
      "Existen varias formas de calcular el producto punto:\n",
      "Producto punto 1: 48\n",
      "Producto punto 2: 48\n",
      "Producto punto 3 :  48\n",
      "Producto punto 4:  48\n"
     ]
    }
   ],
   "source": [
    "# Operaciones vectores\n",
    "print('Suma elemento a elemento:', x + y)\n",
    "print('Multiplicacion elemento a elemento:', x * y)\n",
    "print('\\nExisten varias formas de calcular el producto punto:')\n",
    "print('Producto punto 1:', np.sum(x * y))\n",
    "print('Producto punto 2:', np.dot(x,y))\n",
    "print('Producto punto 3 : ', np.inner(x,y))\n",
    "print('Producto punto 4: ', x@y)"
   ]
  },
  {
   "cell_type": "code",
   "execution_count": 16,
   "id": "47753675",
   "metadata": {
    "scrolled": true
   },
   "outputs": [
    {
     "ename": "NameError",
     "evalue": "name 'A' is not defined",
     "output_type": "error",
     "traceback": [
      "\u001b[1;31m---------------------------------------------------------------------------\u001b[0m",
      "\u001b[1;31mNameError\u001b[0m                                 Traceback (most recent call last)",
      "Cell \u001b[1;32mIn[16], line 2\u001b[0m\n\u001b[0;32m      1\u001b[0m \u001b[38;5;66;03m# Multiplicar 4 matrices: A B C D\u001b[39;00m\n\u001b[1;32m----> 2\u001b[0m np\u001b[38;5;241m.\u001b[39mdot(\u001b[43mA\u001b[49m, np\u001b[38;5;241m.\u001b[39mdot(B, np\u001b[38;5;241m.\u001b[39mdot( C, D)))\n\u001b[0;32m      4\u001b[0m A \u001b[38;5;241m@\u001b[39m B \u001b[38;5;241m@\u001b[39m C \u001b[38;5;241m@\u001b[39m D\n",
      "\u001b[1;31mNameError\u001b[0m: name 'A' is not defined"
     ]
    }
   ],
   "source": [
    "# Multiplicar 4 matrices: A B C D\n",
    "np.dot(A, np.dot(B, np.dot( C, D)))\n",
    "\n",
    "A @ B @ C @ D "
   ]
  },
  {
   "cell_type": "markdown",
   "id": "5fc529d9",
   "metadata": {},
   "source": [
    "**Producto Punto (Ángulo entre dos vectores):**  \n",
    "$v\\cdot w=\\lVert v \\rVert_2 \\lVert w \\rVert_2 \\cos \\theta$"
   ]
  },
  {
   "cell_type": "code",
   "execution_count": null,
   "id": "7c640e24",
   "metadata": {},
   "outputs": [],
   "source": []
  },
  {
   "cell_type": "markdown",
   "id": "60df9f3c",
   "metadata": {},
   "source": [
    "**Norma $L_p$ de un vector** <br>\n",
    "\n",
    "En álgebra lineal, la norma $L_p$ se refiere a una medida de la magnitud de un vector o matriz en un espacio vectorial. La norma $L_p$ de un vector $v$ se define formalmente como:\n",
    "\n",
    "Sea $\\mathbf{v}$ un vector con elementos $v_{i}$ con $v_{i} \\in \\mathbb{R} \\, \\forall i  \\, \\in \\mathbb{N}$. La norma $L_{p}$ de un vector, denotada por $||\\mathbf{v}||_{p}$ es dada por \n",
    "\n",
    "$$ ||\\mathbf{v}||_{p} = (\\sum |v_i|^p)^{1/p} $$\n",
    "\n",
    "Donde $v_1, v_2, ..., v_n$ son las coordenadas del vector $\\mathbf{v}$, y $p \\in \\mathbb{R}^{+}$.\n",
    "\n",
    "En la práctica, las normas $L_p$ se utilizan para medir la \"distancia\" entre dos vectores o para establecer umbrales de error en la solución de sistemas de ecuaciones lineales. En particular, la norma $L_2$ (también conocida como norma euclidiana) es muy común en aplicaciones de probabilidad y esatistica. En general, cuanto mayor es el valor de $p$, más \"importancia\" se le da a los componentes más grandes del vector. \n",
    "\n",
    "El siguiente grafico muestra las regiones generadas por las diferentes normas $L_p$ calculadas utilizando los vectores que generan el circulo unitario.\n",
    "\n",
    "![Normas Lp](img/LpNorms.jpg)\n",
    "\n",
    "De momento nos concentraremos en estudiar los casos $p=2$ (norma euclideana) y $p=\\infty$ (norma máxima), respectivamente:\n",
    "\n",
    "$$ ||\\mathbf{v}||_{2} = (\\sum |v_i|^2)^{1/2} $$\n",
    "$$ ||\\mathbf{v}||_{\\infty} = \\text{max}(v_{1}, v_{2}, ... ,v_{n}) $$"
   ]
  },
  {
   "cell_type": "code",
   "execution_count": 20,
   "id": "e28d7267",
   "metadata": {},
   "outputs": [
    {
     "name": "stdout",
     "output_type": "stream",
     "text": [
      "Norma L1: 6.0\n",
      "Norma L2: 3.7416573867739413\n",
      "Norma L_inf: 3.0\n"
     ]
    }
   ],
   "source": [
    "x = np.array([1,2,3])\n",
    "print('Norma L1:', np.linalg.norm(x, 1))\n",
    "print('Norma L2:', np.linalg.norm(x))\n",
    "print('Norma L_inf:', np.linalg.norm(x, np.inf))"
   ]
  },
  {
   "cell_type": "markdown",
   "id": "33d32537",
   "metadata": {},
   "source": [
    "### Ejercicios ###\n",
    "1. Calcula el valor promedio de un vector usando el producto punto\n",
    "2. Calcula el valor presente de una serie de flujos anuales de \\$100 por 15 años suponiendo una tasa anual constante del 8% (anualidad vencida).\n",
    "3. La distancia entre dos vectores $x$ e $y$ está dada por $\\lVert x-y \\rVert_2$. Escribe una función que encuentre el vecino más cercano de un vector entre una lista de vectores.\n",
    "4. Crea una función que tome como entrada dos vectores de las mismas dimensiones y una tolerancia positiva y cercana a 0. El resultado debe ser True si el angulo entre los dos vectores menos pi/2 es menor que la tolerancia. En caso contrario regresar False.  \n",
    "5. Crea una función que tome como entrada dos strings y una tolerancia positiva y cercana a 0. A partir de las strings deberás construir dos vectores, en los que el primer elemento será el número de 'a' en el string, el segundo de 'b' y así sucesivamente. El output debe ser 1 si el ángulo entre los dos vectores es menor a la tolerancia."
   ]
  },
  {
   "cell_type": "code",
   "execution_count": 17,
   "id": "7755b69d",
   "metadata": {},
   "outputs": [
    {
     "data": {
      "text/plain": [
       "4.5"
      ]
     },
     "execution_count": 17,
     "metadata": {},
     "output_type": "execute_result"
    }
   ],
   "source": [
    "# Ejercicio 1\n",
    "x = np.arange(10)\n",
    "y = np.ones(10)\n",
    "\n",
    "np.dot(x,y)/len(x)"
   ]
  },
  {
   "cell_type": "code",
   "execution_count": 22,
   "id": "2831cdb9",
   "metadata": {},
   "outputs": [
    {
     "name": "stdout",
     "output_type": "stream",
     "text": [
      "$855.95\n"
     ]
    }
   ],
   "source": [
    "# Ejercicio 2\n",
    "vp = 0\n",
    "for i in range(1,16):\n",
    "    vp_i = 100 * (1/(1+0.08)**i)\n",
    "    vp += vp_i\n",
    "print(f\"${vp:.2f}\")"
   ]
  },
  {
   "cell_type": "code",
   "execution_count": 24,
   "id": "b4883343",
   "metadata": {},
   "outputs": [
    {
     "data": {
      "text/plain": [
       "855.9478687926369"
      ]
     },
     "execution_count": 24,
     "metadata": {},
     "output_type": "execute_result"
    }
   ],
   "source": [
    "flujos = np.ones(15) * 100\n",
    "t = np.arange(1,16)\n",
    "df = np.ones(15)/((1+0.08)**t)\n",
    "\n",
    "df @ flujos"
   ]
  },
  {
   "cell_type": "code",
   "execution_count": 25,
   "id": "15918dc6",
   "metadata": {},
   "outputs": [
    {
     "data": {
      "text/plain": [
       "array([1, 0])"
      ]
     },
     "execution_count": 25,
     "metadata": {},
     "output_type": "execute_result"
    }
   ],
   "source": [
    "# Ejercicio 3\n",
    "def vecino_mas_cercano(vector, lista_vectores):\n",
    "    distancia_min = np.inf\n",
    "    for v in lista_vectores:\n",
    "        distancia = np.linalg.norm(vector-v)\n",
    "        if distancia < distancia_min:\n",
    "            distancia_min = distancia\n",
    "            vecino = v\n",
    "    return vecino# el vecino mas cercano a vector de la lista de vectores\n",
    "\n",
    "lista_ejemplo = [\n",
    "    np.array([1,0]),\n",
    "    np.array([0,1]),\n",
    "    np.array([2,-3]),\n",
    "    np.array([10,2]),\n",
    "    np.array([-6,4])\n",
    "]\n",
    "\n",
    "vector_ejemplo = np.array([2,2])\n",
    "\n",
    "vecino_mas_cercano(vector_ejemplo, lista_ejemplo)"
   ]
  },
  {
   "cell_type": "code",
   "execution_count": 3,
   "id": "1d0d5629",
   "metadata": {},
   "outputs": [
    {
     "data": {
      "text/plain": [
       "True"
      ]
     },
     "execution_count": 3,
     "metadata": {},
     "output_type": "execute_result"
    }
   ],
   "source": [
    "# Ejercicio 4\n",
    "\n",
    "x = np.array([1,0,0])\n",
    "y = np.array([0,1,0])\n",
    "\n",
    "def verifica_ortogonalidad(v1, v2, tol):\n",
    "    angulo = np.arccos(np.dot(x,y)/(np.linalg.norm(x)*np.linalg.norm(y)))\n",
    "    angulo = np.degrees(angulo)\n",
    "    return np.abs(np.degrees(np.pi/2) - angulo) < tol\n",
    "\n",
    "verifica_ortogonalidad(x,y,1)"
   ]
  },
  {
   "cell_type": "code",
   "execution_count": 9,
   "id": "23cf7e81",
   "metadata": {},
   "outputs": [],
   "source": [
    "# Ejercicio 5\n",
    "import string\n",
    "abecedario = string.ascii_lowercase\n",
    "\n",
    "\"casa\".count(\"a\")\n",
    "\n",
    "def comparar_strings(s1, s2, tol):\n",
    "    v1 = []\n",
    "    for letra in abecedario:\n",
    "        v1.append(s1.count(letra))\n",
    "    v2 = []\n",
    "    for letra in abecedario:\n",
    "        v2.append(s2.count(letra))\n",
    "    \n",
    "    x = np.array(v1)\n",
    "    y = np.array(v2)\n",
    "    angulo = np.arccos(np.dot(x,y)/(np.linalg.norm(x)*np.linalg.norm(y)))\n",
    "    angulo = np.degrees(angulo)\n",
    "    \n",
    "    if angulo < tol:\n",
    "        return 1\n",
    "    return 0"
   ]
  },
  {
   "cell_type": "code",
   "execution_count": 12,
   "id": "ad3275c9",
   "metadata": {},
   "outputs": [
    {
     "name": "stdout",
     "output_type": "stream",
     "text": [
      "1\n",
      "1\n",
      "0\n"
     ]
    }
   ],
   "source": [
    "print(comparar_strings(\"casa\", \"masa\", 45))\n",
    "print(comparar_strings(\"casa\", \"casas\", 45))\n",
    "print(comparar_strings(\"casa\", \"perro\", 45))"
   ]
  },
  {
   "cell_type": "markdown",
   "id": "3157a9dc",
   "metadata": {},
   "source": [
    "### Matrices\n",
    "\n",
    "Una matriz $\\bf X$ es un arreglo bi-dimensional de números (equivalente a un numpy array con `ndim == 2`). Denotaremos la $(i, j)$-ésima entrada de una matriz $\\bf X$ por medio de $X_{i,j}$.\n",
    "\n",
    "$$\n",
    "{\\bf X} = \\begin{bmatrix}\n",
    "x_{1,1} & x_{1,2} & \\ldots & x_{1,M} \\\\\n",
    "x_{1,1} & x_{1,2} & \\ldots & x_{2,M} \\\\\n",
    "\\vdots & \\vdots & \\vdots & \\vdots \\\\\n",
    "x_{N,1} & x_{N,2} & \\ldots & x_{N,M}\n",
    "\\end{bmatrix}\n",
    "$$\n",
    "\n",
    "A fin de hacer la notación más compacta, declararemos una matriz $\\bf A$ con $N$ filas y $M$ columnas como\n",
    "\n",
    "$$\n",
    "    {\\bf A} \\in \\mathbb{R}^{N\\times M}\n",
    "$$\n",
    "\n",
    "* De una manera geométrica, una matriz representa una _transformación lineal_ de un espacio en $\\mathbb{R}^n$. Un ejemplo visual de esto se puede encontrar [aquí](https://www.geogebra.org/m/YCZa8TAH)."
   ]
  },
  {
   "cell_type": "markdown",
   "id": "b8cbf075",
   "metadata": {},
   "source": [
    "**Algunas matrices particulares**\n",
    "1. Una matriz ${\\bf A} \\in \\mathbb{R}^{n\\times n}$ es conocida como una matriz cuadrada\n",
    "2. Denotamos la matriz identidad $\\bf I\\in \\mathbb{R}^{n\\times n}$ como una matriz cuadrada tal que $I_{i,j} = \\mathbb{1}_{i=j}$\n",
    "3. Matemáticamente, expresamos un vector como un vector columna, es decir, ${\\bf a} \\in \\mathbb{R}^{n\\times 1}$."
   ]
  },
  {
   "cell_type": "code",
   "execution_count": 13,
   "id": "7b88fd26",
   "metadata": {},
   "outputs": [
    {
     "data": {
      "text/plain": [
       "array([[1, 2, 3],\n",
       "       [4, 5, 6],\n",
       "       [7, 8, 9]])"
      ]
     },
     "execution_count": 13,
     "metadata": {},
     "output_type": "execute_result"
    }
   ],
   "source": [
    "np.array([\n",
    "    [1,2,3],\n",
    "    [4,5,6],\n",
    "    [7,8,9]\n",
    "])"
   ]
  },
  {
   "cell_type": "code",
   "execution_count": 14,
   "id": "1aaefbdc",
   "metadata": {},
   "outputs": [
    {
     "data": {
      "text/plain": [
       "array([[1., 1., 1., 1., 1., 1., 1., 1., 1., 1.],\n",
       "       [1., 1., 1., 1., 1., 1., 1., 1., 1., 1.],\n",
       "       [1., 1., 1., 1., 1., 1., 1., 1., 1., 1.],\n",
       "       [1., 1., 1., 1., 1., 1., 1., 1., 1., 1.],\n",
       "       [1., 1., 1., 1., 1., 1., 1., 1., 1., 1.]])"
      ]
     },
     "execution_count": 14,
     "metadata": {},
     "output_type": "execute_result"
    }
   ],
   "source": [
    "np.ones((5,10))"
   ]
  },
  {
   "cell_type": "code",
   "execution_count": 15,
   "id": "8021e6cb",
   "metadata": {},
   "outputs": [
    {
     "data": {
      "text/plain": [
       "matrix([[1, 2],\n",
       "        [3, 4]])"
      ]
     },
     "execution_count": 15,
     "metadata": {},
     "output_type": "execute_result"
    }
   ],
   "source": [
    "a = np.matrix('1 2; 3 4')\n",
    "a"
   ]
  },
  {
   "cell_type": "code",
   "execution_count": 16,
   "id": "c5acc3e8",
   "metadata": {},
   "outputs": [
    {
     "data": {
      "text/plain": [
       "array([ 0,  1,  2,  3,  4,  5,  6,  7,  8,  9, 10, 11, 12, 13, 14, 15, 16,\n",
       "       17, 18, 19])"
      ]
     },
     "execution_count": 16,
     "metadata": {},
     "output_type": "execute_result"
    }
   ],
   "source": [
    "a = np.arange(20)\n",
    "a"
   ]
  },
  {
   "cell_type": "code",
   "execution_count": 17,
   "id": "e7d00667",
   "metadata": {},
   "outputs": [
    {
     "data": {
      "text/plain": [
       "array([[ 0,  1,  2,  3,  4],\n",
       "       [ 5,  6,  7,  8,  9],\n",
       "       [10, 11, 12, 13, 14],\n",
       "       [15, 16, 17, 18, 19]])"
      ]
     },
     "execution_count": 17,
     "metadata": {},
     "output_type": "execute_result"
    }
   ],
   "source": [
    "a = a.reshape(4,5)\n",
    "a"
   ]
  },
  {
   "cell_type": "code",
   "execution_count": 18,
   "id": "9feb6401",
   "metadata": {},
   "outputs": [
    {
     "data": {
      "text/plain": [
       "array([[1., 0., 0., 0., 0.],\n",
       "       [0., 1., 0., 0., 0.],\n",
       "       [0., 0., 1., 0., 0.],\n",
       "       [0., 0., 0., 1., 0.],\n",
       "       [0., 0., 0., 0., 1.]])"
      ]
     },
     "execution_count": 18,
     "metadata": {},
     "output_type": "execute_result"
    }
   ],
   "source": [
    "np.identity(5)"
   ]
  },
  {
   "cell_type": "markdown",
   "id": "66a91ff3",
   "metadata": {},
   "source": [
    "**Propiedades de matrices en numpy**"
   ]
  },
  {
   "cell_type": "code",
   "execution_count": 19,
   "id": "07dffed8",
   "metadata": {},
   "outputs": [
    {
     "data": {
      "text/plain": [
       "(4, 5)"
      ]
     },
     "execution_count": 19,
     "metadata": {},
     "output_type": "execute_result"
    }
   ],
   "source": [
    "# Dimensiones de la matriz\n",
    "a.shape"
   ]
  },
  {
   "cell_type": "code",
   "execution_count": 20,
   "id": "27996ee9",
   "metadata": {},
   "outputs": [
    {
     "data": {
      "text/plain": [
       "20"
      ]
     },
     "execution_count": 20,
     "metadata": {},
     "output_type": "execute_result"
    }
   ],
   "source": [
    "# Numero de elementos\n",
    "a.size"
   ]
  },
  {
   "cell_type": "code",
   "execution_count": 21,
   "id": "9f4556b4",
   "metadata": {},
   "outputs": [
    {
     "data": {
      "text/plain": [
       "dtype('int32')"
      ]
     },
     "execution_count": 21,
     "metadata": {},
     "output_type": "execute_result"
    }
   ],
   "source": [
    "# Tipo de datos\n",
    "a.dtype"
   ]
  },
  {
   "cell_type": "markdown",
   "id": "ffb9c48e",
   "metadata": {},
   "source": [
    "**Selección de elementos de una matriz**"
   ]
  },
  {
   "cell_type": "code",
   "execution_count": 22,
   "id": "838e1bcd",
   "metadata": {},
   "outputs": [
    {
     "data": {
      "text/plain": [
       "array([[ 0,  1,  2,  3,  4],\n",
       "       [ 5,  6,  7,  8,  9],\n",
       "       [10, 11, 12, 13, 14],\n",
       "       [15, 16, 17, 18, 19]])"
      ]
     },
     "execution_count": 22,
     "metadata": {},
     "output_type": "execute_result"
    }
   ],
   "source": [
    "x = a\n",
    "x"
   ]
  },
  {
   "cell_type": "code",
   "execution_count": 24,
   "id": "1c9cd240",
   "metadata": {},
   "outputs": [
    {
     "data": {
      "text/plain": [
       "5"
      ]
     },
     "execution_count": 24,
     "metadata": {},
     "output_type": "execute_result"
    }
   ],
   "source": [
    "x[1,0] # fila 1, columna 0"
   ]
  },
  {
   "cell_type": "code",
   "execution_count": 25,
   "id": "809a0c7f",
   "metadata": {},
   "outputs": [
    {
     "data": {
      "text/plain": [
       "array([5, 6, 7, 8, 9])"
      ]
     },
     "execution_count": 25,
     "metadata": {},
     "output_type": "execute_result"
    }
   ],
   "source": [
    "x[1] # fila 1"
   ]
  },
  {
   "cell_type": "code",
   "execution_count": 26,
   "id": "8f705dbf",
   "metadata": {},
   "outputs": [
    {
     "data": {
      "text/plain": [
       "5"
      ]
     },
     "execution_count": 26,
     "metadata": {},
     "output_type": "execute_result"
    }
   ],
   "source": [
    "x[1][0] # fila 1, columna 0"
   ]
  },
  {
   "cell_type": "code",
   "execution_count": 27,
   "id": "179ba2a3",
   "metadata": {},
   "outputs": [
    {
     "data": {
      "text/plain": [
       "array([ 0,  5, 10, 15])"
      ]
     },
     "execution_count": 27,
     "metadata": {},
     "output_type": "execute_result"
    }
   ],
   "source": [
    "# Todos los elementos de la primera columna\n",
    "x[:,0]"
   ]
  },
  {
   "cell_type": "code",
   "execution_count": 28,
   "id": "4d5dad5a",
   "metadata": {},
   "outputs": [
    {
     "data": {
      "text/plain": [
       "array([0, 1, 2, 3, 4])"
      ]
     },
     "execution_count": 28,
     "metadata": {},
     "output_type": "execute_result"
    }
   ],
   "source": [
    "# Todos los elementos de la primera fila\n",
    "x[0,:]"
   ]
  },
  {
   "cell_type": "code",
   "execution_count": 29,
   "id": "45fffd52",
   "metadata": {},
   "outputs": [
    {
     "data": {
      "text/plain": [
       "array([0, 1, 2, 3, 4])"
      ]
     },
     "execution_count": 29,
     "metadata": {},
     "output_type": "execute_result"
    }
   ],
   "source": [
    "x[0]"
   ]
  },
  {
   "cell_type": "markdown",
   "id": "eb792a2c",
   "metadata": {},
   "source": [
    "**Operaciones**"
   ]
  },
  {
   "cell_type": "code",
   "execution_count": 30,
   "id": "8d0afd9b",
   "metadata": {},
   "outputs": [
    {
     "data": {
      "text/plain": [
       "array([[ 0,  1,  2,  3,  4],\n",
       "       [ 5,  6,  7,  8,  9],\n",
       "       [10, 11, 12, 13, 14],\n",
       "       [15, 16, 17, 18, 19]])"
      ]
     },
     "execution_count": 30,
     "metadata": {},
     "output_type": "execute_result"
    }
   ],
   "source": [
    "x"
   ]
  },
  {
   "cell_type": "code",
   "execution_count": 31,
   "id": "eec6ffeb",
   "metadata": {},
   "outputs": [
    {
     "data": {
      "text/plain": [
       "array([[ 0,  5, 10, 15],\n",
       "       [ 1,  6, 11, 16],\n",
       "       [ 2,  7, 12, 17],\n",
       "       [ 3,  8, 13, 18],\n",
       "       [ 4,  9, 14, 19]])"
      ]
     },
     "execution_count": 31,
     "metadata": {},
     "output_type": "execute_result"
    }
   ],
   "source": [
    "# Transpuesta matriz\n",
    "x.T"
   ]
  },
  {
   "cell_type": "code",
   "execution_count": 32,
   "id": "eb4b0a1b",
   "metadata": {},
   "outputs": [
    {
     "data": {
      "text/plain": [
       "array([[ 0,  5, 10, 15, 20],\n",
       "       [25, 30, 35, 40, 45],\n",
       "       [50, 55, 60, 65, 70],\n",
       "       [75, 80, 85, 90, 95]])"
      ]
     },
     "execution_count": 32,
     "metadata": {},
     "output_type": "execute_result"
    }
   ],
   "source": [
    "# Multiplicaciones por un escalar\n",
    "5 * x"
   ]
  },
  {
   "cell_type": "code",
   "execution_count": 33,
   "id": "4ca7fb6b",
   "metadata": {},
   "outputs": [
    {
     "name": "stdout",
     "output_type": "stream",
     "text": [
      "[[1. 1. 1. 1. 1.]\n",
      " [1. 1. 1. 1. 1.]\n",
      " [1. 1. 1. 1. 1.]\n",
      " [1. 1. 1. 1. 1.]]\n"
     ]
    },
    {
     "data": {
      "text/plain": [
       "array([[ 1.,  2.,  3.,  4.,  5.],\n",
       "       [ 6.,  7.,  8.,  9., 10.],\n",
       "       [11., 12., 13., 14., 15.],\n",
       "       [16., 17., 18., 19., 20.]])"
      ]
     },
     "execution_count": 33,
     "metadata": {},
     "output_type": "execute_result"
    }
   ],
   "source": [
    "# Suma de matrices\n",
    "y = np.ones((4,5))\n",
    "print(y)\n",
    "x + y"
   ]
  },
  {
   "cell_type": "code",
   "execution_count": 34,
   "id": "f9d7d246",
   "metadata": {},
   "outputs": [
    {
     "data": {
      "text/plain": [
       "array([[0., 0., 0., 0., 0.],\n",
       "       [0., 0., 0., 0., 0.],\n",
       "       [0., 0., 0., 0., 0.],\n",
       "       [0., 0., 0., 0., 0.]])"
      ]
     },
     "execution_count": 34,
     "metadata": {},
     "output_type": "execute_result"
    }
   ],
   "source": [
    "# Multiplicacion elemento a elemento\n",
    "y = np.zeros((4,5))\n",
    "x * y"
   ]
  },
  {
   "cell_type": "markdown",
   "id": "299e3826",
   "metadata": {},
   "source": [
    "**Transformaciones lineales** <br>\n",
    "Una transformación lineal es una función que transforma un vector en otro vector, de tal manera que se preservan la suma y la multiplicación por un escalar. Formalmente, una transformación lineal $f$ es una función que satisface las siguientes propiedades:\n",
    "\n",
    "- $\\forall \\, u, v \\in f^{-1}, \\, f(u + v) = f(u) + f(v)$.\n",
    "\n",
    "- $\\forall \\, a \\in \\mathbb{R} \\wedge v \\in V, \\, f(av) = a f(v)$"
   ]
  },
  {
   "cell_type": "code",
   "execution_count": 35,
   "id": "54d0648b",
   "metadata": {},
   "outputs": [
    {
     "name": "stdout",
     "output_type": "stream",
     "text": [
      "Función lineal\n",
      "[5.5 8. ]\n",
      "[5.5 8. ]\n",
      "\n",
      "Función No lineal\n",
      "[121 256]\n",
      "[29 56]\n"
     ]
    }
   ],
   "source": [
    "# Definimos 2 vectores arbitrariamente\n",
    "x = np.array([1,2])\n",
    "y = np.array([3,4])\n",
    "\n",
    "# Definimos 2 escalares arbitrariamente\n",
    "a = 2\n",
    "b = 3\n",
    "\n",
    "# Definimos una función LINEAL\n",
    "def f_lineal(vector):\n",
    "    return vector / 2\n",
    "# Y otra no lineal\n",
    "def f_nonlinear(vector):\n",
    "    return vector**2\n",
    "\n",
    "print('Función lineal')\n",
    "print( f_lineal(2*x+3*y) )\n",
    "print( a*(f_lineal(x))+b*f_lineal(y) )\n",
    "print()\n",
    "print('Función No lineal')\n",
    "print( f_nonlinear(2*x+3*y) )\n",
    "print( a*(f_nonlinear(x))+b*f_nonlinear(y) )"
   ]
  },
  {
   "cell_type": "markdown",
   "id": "f4071b8d",
   "metadata": {},
   "source": [
    "### Dependencia e independencia lineal ###"
   ]
  },
  {
   "cell_type": "markdown",
   "id": "4c5fcb00",
   "metadata": {},
   "source": [
    "Una colección de tamaño $n$ de vectores $\\vec{v_i}$ es linealmente independiente si:  \n",
    "$\\beta_1\\vec{v_1}+...+\\beta_n\\vec{v_n}=0$  \n",
    "solo se cumple cuando todas las $\\beta$ son iguales a 0."
   ]
  },
  {
   "cell_type": "code",
   "execution_count": 36,
   "id": "91ae2b54",
   "metadata": {},
   "outputs": [],
   "source": [
    "x = np.array([0,1])\n",
    "y = np.array([0,2])\n",
    "\n",
    "v_zero = np.array([0,0])"
   ]
  },
  {
   "cell_type": "code",
   "execution_count": 37,
   "id": "eb359df0",
   "metadata": {},
   "outputs": [
    {
     "data": {
      "text/plain": [
       "array([0, 0])"
      ]
     },
     "execution_count": 37,
     "metadata": {},
     "output_type": "execute_result"
    }
   ],
   "source": [
    "0*x + 0*y"
   ]
  },
  {
   "cell_type": "code",
   "execution_count": 38,
   "id": "b3a40cf7",
   "metadata": {},
   "outputs": [
    {
     "data": {
      "text/plain": [
       "array([0, 0])"
      ]
     },
     "execution_count": 38,
     "metadata": {},
     "output_type": "execute_result"
    }
   ],
   "source": [
    "(-2)*x + (1)*y"
   ]
  },
  {
   "cell_type": "markdown",
   "id": "aef98f91",
   "metadata": {},
   "source": [
    "Para dos vectores $x$ e $y$ y dos escalares $a$ y $b$, $F$ es una **transformación lineal** si:  \n",
    "$F(ax+by)=aF(x)+bF(y)$"
   ]
  },
  {
   "cell_type": "code",
   "execution_count": null,
   "id": "404835a1",
   "metadata": {},
   "outputs": [],
   "source": [
    "x = np.array([1,2])\n",
    "y = np.array([3,4])\n",
    "\n",
    "a = 2\n",
    "b = 3\n",
    "# Saquemos el valor negativo de nuestro vector\n",
    "def f(vector):\n",
    "    return -1*vector\n",
    "\n",
    "print(f(2*x+3*y))\n",
    "print(a*(f(x))+b*f(y))"
   ]
  },
  {
   "attachments": {
    "image-2.png": {
     "image/png": "[encoded data removed]"
    },
    "image-3.png": {
     "image/png": "[encoded data removed]"
    }
   },
   "cell_type": "markdown",
   "id": "50726b34",
   "metadata": {},
   "source": [
    "**Multiplicación de matrices**\n",
    "![image-2.png](attachment:image-2.png)\n",
    "![image-3.png](attachment:image-3.png)"
   ]
  },
  {
   "cell_type": "code",
   "execution_count": 41,
   "id": "c67de0f7",
   "metadata": {},
   "outputs": [
    {
     "data": {
      "text/plain": [
       "array([[ 0,  1,  2,  3,  4],\n",
       "       [ 5,  6,  7,  8,  9],\n",
       "       [10, 11, 12, 13, 14],\n",
       "       [15, 16, 17, 18, 19]])"
      ]
     },
     "execution_count": 41,
     "metadata": {},
     "output_type": "execute_result"
    }
   ],
   "source": [
    "x = np.arange(20).reshape(4,5)\n",
    "x"
   ]
  },
  {
   "cell_type": "code",
   "execution_count": 40,
   "id": "e2be3749",
   "metadata": {},
   "outputs": [
    {
     "data": {
      "text/plain": [
       "array([[1., 1., 1., 1.],\n",
       "       [1., 1., 1., 1.],\n",
       "       [1., 1., 1., 1.],\n",
       "       [1., 1., 1., 1.],\n",
       "       [1., 1., 1., 1.]])"
      ]
     },
     "execution_count": 40,
     "metadata": {},
     "output_type": "execute_result"
    }
   ],
   "source": [
    "y = np.ones((5,4))\n",
    "y"
   ]
  },
  {
   "cell_type": "code",
   "execution_count": 42,
   "id": "1d15542d",
   "metadata": {},
   "outputs": [
    {
     "data": {
      "text/plain": [
       "array([[10., 10., 10., 10.],\n",
       "       [35., 35., 35., 35.],\n",
       "       [60., 60., 60., 60.],\n",
       "       [85., 85., 85., 85.]])"
      ]
     },
     "execution_count": 42,
     "metadata": {},
     "output_type": "execute_result"
    }
   ],
   "source": [
    "x @ y"
   ]
  },
  {
   "cell_type": "code",
   "execution_count": 43,
   "id": "03abfa01",
   "metadata": {},
   "outputs": [
    {
     "data": {
      "text/plain": [
       "array([[10., 10., 10., 10.],\n",
       "       [35., 35., 35., 35.],\n",
       "       [60., 60., 60., 60.],\n",
       "       [85., 85., 85., 85.]])"
      ]
     },
     "execution_count": 43,
     "metadata": {},
     "output_type": "execute_result"
    }
   ],
   "source": [
    "np.dot(x, y)"
   ]
  },
  {
   "cell_type": "markdown",
   "id": "08d93656",
   "metadata": {},
   "source": [
    "**Inversa de una matriz**: Es análogo a la inversa de un número.  \n",
    "N es la inversa de la matriz M si:  \n",
    "$M\\cdot N=I$"
   ]
  },
  {
   "cell_type": "code",
   "execution_count": 46,
   "id": "531b79ac",
   "metadata": {},
   "outputs": [
    {
     "data": {
      "text/plain": [
       "array([[-2. ,  1. ],\n",
       "       [ 1.5, -0.5]])"
      ]
     },
     "execution_count": 46,
     "metadata": {},
     "output_type": "execute_result"
    }
   ],
   "source": [
    "A = np.array([1,2,3,4]).reshape(2,2)\n",
    "np.linalg.inv(A)"
   ]
  },
  {
   "cell_type": "code",
   "execution_count": 47,
   "id": "98a93302",
   "metadata": {},
   "outputs": [
    {
     "data": {
      "text/plain": [
       "array([[1.00000000e+00, 1.11022302e-16],\n",
       "       [0.00000000e+00, 1.00000000e+00]])"
      ]
     },
     "execution_count": 47,
     "metadata": {},
     "output_type": "execute_result"
    }
   ],
   "source": [
    "A @ np.linalg.inv(A)"
   ]
  },
  {
   "cell_type": "markdown",
   "id": "7fc042f7",
   "metadata": {},
   "source": [
    "**Determinante de Una Matriz**: El determinante de una matriz cuadrada es una función que asigna un escalar a la matriz y se denota como det(A) o |A|. Representa la forma en que una matriz afecta el espacio vectorial en términos de su escala, es decir, cómo los vectores son \"estrechados\" o \"expandidos\" por la transformación lineal."
   ]
  },
  {
   "cell_type": "code",
   "execution_count": 48,
   "id": "f838f5fd",
   "metadata": {},
   "outputs": [
    {
     "data": {
      "text/plain": [
       "array([[0, 1, 0],\n",
       "       [0, 0, 0],\n",
       "       [1, 0, 1]])"
      ]
     },
     "execution_count": 48,
     "metadata": {},
     "output_type": "execute_result"
    }
   ],
   "source": [
    "# Si el determinante de una matriz es 0 quiere decir que la matriz es singular (no tiene inversa)\n",
    "X = np.array([\n",
    "    [0, 1, 0],\n",
    "    [0, 0, 0],\n",
    "    [1, 0, 1]\n",
    "])\n",
    "X"
   ]
  },
  {
   "cell_type": "code",
   "execution_count": 49,
   "id": "ec17a1f1",
   "metadata": {},
   "outputs": [
    {
     "data": {
      "text/plain": [
       "0.0"
      ]
     },
     "execution_count": 49,
     "metadata": {},
     "output_type": "execute_result"
    }
   ],
   "source": [
    "np.linalg.det(X)"
   ]
  },
  {
   "cell_type": "code",
   "execution_count": 50,
   "id": "644b6d17",
   "metadata": {},
   "outputs": [
    {
     "ename": "LinAlgError",
     "evalue": "Singular matrix",
     "output_type": "error",
     "traceback": [
      "\u001b[1;31m---------------------------------------------------------------------------\u001b[0m",
      "\u001b[1;31mLinAlgError\u001b[0m                               Traceback (most recent call last)",
      "Cell \u001b[1;32mIn[50], line 2\u001b[0m\n\u001b[0;32m      1\u001b[0m \u001b[38;5;66;03m# Debe dar error!\u001b[39;00m\n\u001b[1;32m----> 2\u001b[0m \u001b[43mnp\u001b[49m\u001b[38;5;241;43m.\u001b[39;49m\u001b[43mlinalg\u001b[49m\u001b[38;5;241;43m.\u001b[39;49m\u001b[43minv\u001b[49m\u001b[43m(\u001b[49m\u001b[43mX\u001b[49m\u001b[43m)\u001b[49m\n",
      "File \u001b[1;32m<__array_function__ internals>:180\u001b[0m, in \u001b[0;36minv\u001b[1;34m(*args, **kwargs)\u001b[0m\n",
      "File \u001b[1;32m~\\miniconda3\\lib\\site-packages\\numpy\\linalg\\linalg.py:552\u001b[0m, in \u001b[0;36minv\u001b[1;34m(a)\u001b[0m\n\u001b[0;32m    550\u001b[0m signature \u001b[38;5;241m=\u001b[39m \u001b[38;5;124m'\u001b[39m\u001b[38;5;124mD->D\u001b[39m\u001b[38;5;124m'\u001b[39m \u001b[38;5;28;01mif\u001b[39;00m isComplexType(t) \u001b[38;5;28;01melse\u001b[39;00m \u001b[38;5;124m'\u001b[39m\u001b[38;5;124md->d\u001b[39m\u001b[38;5;124m'\u001b[39m\n\u001b[0;32m    551\u001b[0m extobj \u001b[38;5;241m=\u001b[39m get_linalg_error_extobj(_raise_linalgerror_singular)\n\u001b[1;32m--> 552\u001b[0m ainv \u001b[38;5;241m=\u001b[39m \u001b[43m_umath_linalg\u001b[49m\u001b[38;5;241;43m.\u001b[39;49m\u001b[43minv\u001b[49m\u001b[43m(\u001b[49m\u001b[43ma\u001b[49m\u001b[43m,\u001b[49m\u001b[43m \u001b[49m\u001b[43msignature\u001b[49m\u001b[38;5;241;43m=\u001b[39;49m\u001b[43msignature\u001b[49m\u001b[43m,\u001b[49m\u001b[43m \u001b[49m\u001b[43mextobj\u001b[49m\u001b[38;5;241;43m=\u001b[39;49m\u001b[43mextobj\u001b[49m\u001b[43m)\u001b[49m\n\u001b[0;32m    553\u001b[0m \u001b[38;5;28;01mreturn\u001b[39;00m wrap(ainv\u001b[38;5;241m.\u001b[39mastype(result_t, copy\u001b[38;5;241m=\u001b[39m\u001b[38;5;28;01mFalse\u001b[39;00m))\n",
      "File \u001b[1;32m~\\miniconda3\\lib\\site-packages\\numpy\\linalg\\linalg.py:89\u001b[0m, in \u001b[0;36m_raise_linalgerror_singular\u001b[1;34m(err, flag)\u001b[0m\n\u001b[0;32m     88\u001b[0m \u001b[38;5;28;01mdef\u001b[39;00m \u001b[38;5;21m_raise_linalgerror_singular\u001b[39m(err, flag):\n\u001b[1;32m---> 89\u001b[0m     \u001b[38;5;28;01mraise\u001b[39;00m LinAlgError(\u001b[38;5;124m\"\u001b[39m\u001b[38;5;124mSingular matrix\u001b[39m\u001b[38;5;124m\"\u001b[39m)\n",
      "\u001b[1;31mLinAlgError\u001b[0m: Singular matrix"
     ]
    }
   ],
   "source": [
    "# Debe dar error!\n",
    "np.linalg.inv(X)"
   ]
  },
  {
   "cell_type": "markdown",
   "id": "fcce0a62",
   "metadata": {},
   "source": [
    "**Rango**: El rango de una matriz A de m x n es el número de columnas o filas linealmente independientes."
   ]
  },
  {
   "cell_type": "code",
   "execution_count": 51,
   "id": "764bbf82",
   "metadata": {},
   "outputs": [
    {
     "data": {
      "text/plain": [
       "array([[0, 1, 0],\n",
       "       [0, 0, 0],\n",
       "       [1, 0, 1]])"
      ]
     },
     "execution_count": 51,
     "metadata": {},
     "output_type": "execute_result"
    }
   ],
   "source": [
    "X"
   ]
  },
  {
   "cell_type": "code",
   "execution_count": 52,
   "id": "bc652b61",
   "metadata": {
    "scrolled": true
   },
   "outputs": [
    {
     "data": {
      "text/plain": [
       "2"
      ]
     },
     "execution_count": 52,
     "metadata": {},
     "output_type": "execute_result"
    }
   ],
   "source": [
    "np.linalg.matrix_rank(X)"
   ]
  },
  {
   "cell_type": "code",
   "execution_count": 53,
   "id": "841f1544",
   "metadata": {},
   "outputs": [
    {
     "data": {
      "text/plain": [
       "array([[0.76715151, 0.12853828, 0.85366843],\n",
       "       [0.27973513, 0.37069327, 0.60949284],\n",
       "       [0.53968248, 0.90917131, 0.88927965]])"
      ]
     },
     "execution_count": 53,
     "metadata": {},
     "output_type": "execute_result"
    }
   ],
   "source": [
    "Y = np.random.random((3,3))\n",
    "Y"
   ]
  },
  {
   "cell_type": "code",
   "execution_count": 54,
   "id": "637b319b",
   "metadata": {},
   "outputs": [
    {
     "data": {
      "text/plain": [
       "3"
      ]
     },
     "execution_count": 54,
     "metadata": {},
     "output_type": "execute_result"
    }
   ],
   "source": [
    "np.linalg.matrix_rank(Y)"
   ]
  },
  {
   "cell_type": "markdown",
   "id": "3b22c0bf",
   "metadata": {},
   "source": [
    "### Ejercicios ###\n",
    "1. Haz un ejemplo en el que verifiques que para las matrices se cumple la propiedad: $A(B+C)=AB+AC$.\n",
    "2. Implementa la multiplicación de una matriz de 2x4 y una matriz de 4x3.\n",
    "3. Una matriz de rotación de 2 dimensiones está definida como:  \n",
    "$R=\\begin{bmatrix}\n",
    "\\cos{\\theta} & -\\sin{\\theta}\\\\\n",
    "\\sin{\\theta} & \\cos{\\theta}\n",
    "\\end{bmatrix}$  \n",
    "Utiliza una matriz de rotación para rotar el vector (1,1) en 90°."
   ]
  },
  {
   "cell_type": "code",
   "execution_count": 56,
   "id": "a3181743",
   "metadata": {},
   "outputs": [
    {
     "data": {
      "text/plain": [
       "array([[57, 67, 89],\n",
       "       [73, 72, 95]])"
      ]
     },
     "execution_count": 56,
     "metadata": {},
     "output_type": "execute_result"
    }
   ],
   "source": [
    "A = np.array([\n",
    "    [4,7,4,2],\n",
    "    [3,6,8,8]\n",
    "])\n",
    "B = np.array([\n",
    "    [1,2,3],\n",
    "    [5,7,9],\n",
    "    [4,2,3],\n",
    "    [1,1,1]\n",
    "])\n",
    "\n",
    "A @ B"
   ]
  },
  {
   "cell_type": "code",
   "execution_count": 58,
   "id": "bd618f9b",
   "metadata": {},
   "outputs": [
    {
     "data": {
      "text/plain": [
       "array([[57., 67., 89.],\n",
       "       [73., 72., 95.]])"
      ]
     },
     "execution_count": 58,
     "metadata": {},
     "output_type": "execute_result"
    }
   ],
   "source": [
    "C = np.zeros((2,3))\n",
    "\n",
    "C[0,0] = A[0,:] @ B[:,0]\n",
    "C[1,0] = A[1,:] @ B[:,0]\n",
    "\n",
    "for i in range(2):\n",
    "    for j in range(3):\n",
    "        C[i,j] = A[i,:] @ B[:,j]\n",
    "C"
   ]
  },
  {
   "cell_type": "code",
   "execution_count": 59,
   "id": "ad26b189",
   "metadata": {},
   "outputs": [
    {
     "data": {
      "text/plain": [
       "array([[ 6.123234e-17, -1.000000e+00],\n",
       "       [ 1.000000e+00,  6.123234e-17]])"
      ]
     },
     "execution_count": 59,
     "metadata": {},
     "output_type": "execute_result"
    }
   ],
   "source": [
    "# Ejercicio 5\n",
    "R = np.array([\n",
    "    [np.cos(np.pi/2), -np.sin(np.pi/2)],\n",
    "    [np.sin(np.pi/2), np.cos(np.pi/2)]\n",
    "])\n",
    "\n",
    "x = np.array([1,1])\n",
    "\n",
    "plt.arrow(0,0,*x)\n",
    "plt.arrow(0,0,*(R @ x))"
   ]
  },
  {
   "cell_type": "markdown",
   "id": "e00c4d62",
   "metadata": {},
   "source": [
    "## Ax = b ##"
   ]
  },
  {
   "cell_type": "markdown",
   "id": "e783ebad",
   "metadata": {},
   "source": [
    "Dos formas de ver el producto de $Ax$ \n",
    "$$ Ax=\n",
    "\\begin{bmatrix}\n",
    "-2 & 4  \\\\\n",
    "3 & 7\n",
    "\\end{bmatrix}\n",
    "\\begin{bmatrix}\n",
    "x_1 \\\\\n",
    "x_2\n",
    "\\end{bmatrix}\n",
    "$$  \n",
    "1) Como el producto punto de las filas con el vector $x$  \n",
    "2) Como una combinación lineal de las columnas 1 y 2  \n",
    "$$\n",
    "x_1 \\begin{bmatrix}\n",
    "-2  \\\\\n",
    "3\n",
    "\\end{bmatrix}\n",
    "+ x_2 \\begin{bmatrix}\n",
    "4  \\\\\n",
    "7\n",
    "\\end{bmatrix}\n",
    "$$  "
   ]
  },
  {
   "cell_type": "code",
   "execution_count": 62,
   "id": "47060866",
   "metadata": {},
   "outputs": [
    {
     "data": {
      "text/plain": [
       "<matplotlib.patches.FancyArrow at 0x2095452a9a0>"
      ]
     },
     "execution_count": 62,
     "metadata": {},
     "output_type": "execute_result"
    },
    {
     "data": {
      "image/png": "[encoded data removed]",
      "text/plain": [
       "<Figure size 640x480 with 1 Axes>"
      ]
     },
     "metadata": {},
     "output_type": "display_data"
    }
   ],
   "source": [
    "A1 = np.array([-2,3])\n",
    "A2 = np.array([4,7])\n",
    "\n",
    "plt.arrow(0,0,*A1, color='red', width=0.05, length_includes_head=True)\n",
    "plt.arrow(0,0,*A2, color='blue', width=0.05, length_includes_head=True)"
   ]
  },
  {
   "cell_type": "markdown",
   "id": "f67c6318",
   "metadata": {},
   "source": [
    "¿Qué podemos generar ahora con la combinación lineal de las columnas de la siguiente matriz?\n",
    "\n",
    "\\begin{bmatrix}\n",
    "-2 & 2  \\\\\n",
    "3 & -3\n",
    "\\end{bmatrix}"
   ]
  },
  {
   "cell_type": "code",
   "execution_count": 63,
   "id": "046e1305",
   "metadata": {},
   "outputs": [
    {
     "data": {
      "text/plain": [
       "<matplotlib.patches.FancyArrow at 0x209543d1880>"
      ]
     },
     "execution_count": 63,
     "metadata": {},
     "output_type": "execute_result"
    },
    {
     "data": {
      "image/png": "[encoded data removed]",
      "text/plain": [
       "<Figure size 640x480 with 1 Axes>"
      ]
     },
     "metadata": {},
     "output_type": "display_data"
    }
   ],
   "source": [
    "A1 = np.array([-2,3])\n",
    "A2 = np.array([2,-3])\n",
    "\n",
    "plt.arrow(0,0,*A1, color='red', width=0.05, length_includes_head=True)\n",
    "plt.arrow(0,0,*A2, color='blue', width=0.05, length_includes_head=True)"
   ]
  },
  {
   "cell_type": "code",
   "execution_count": 64,
   "id": "d139ebeb",
   "metadata": {
    "scrolled": false
   },
   "outputs": [
    {
     "data": {
      "text/plain": [
       "<matplotlib.patches.FancyArrow at 0x20954467040>"
      ]
     },
     "execution_count": 64,
     "metadata": {},
     "output_type": "execute_result"
    },
    {
     "data": {
      "image/png": "[encoded data removed]",
      "text/plain": [
       "<Figure size 640x480 with 1 Axes>"
      ]
     },
     "metadata": {},
     "output_type": "display_data"
    }
   ],
   "source": [
    "A = np.array([\n",
    "    [-2,2],\n",
    "    [3,-3]\n",
    "])\n",
    "\n",
    "x= np.array([1,0])\n",
    "x2 = np.array([2,3])\n",
    "x3 = np.array([-2,-0.5])\n",
    "plt.arrow(0,0,*x, color='green', width=0.05, length_includes_head=True)\n",
    "plt.arrow(0,0,*(A @ x), color='red', width=0.05, length_includes_head=True)\n",
    "plt.arrow(0,0,*x2, color='purple', width=0.05, length_includes_head=True)\n",
    "plt.arrow(0,0,*(A @ x2), color='red', width=0.05, length_includes_head=True)\n",
    "plt.arrow(0,0,*x3, color='orange', width=0.05, length_includes_head=True)\n",
    "plt.arrow(0,0,*(A @ x3), color='red', width=0.05, length_includes_head=True)"
   ]
  },
  {
   "cell_type": "markdown",
   "id": "5d27872b",
   "metadata": {},
   "source": [
    "Ahora en 3 dimensiones:  \n",
    "$$\n",
    "\\begin{bmatrix}\n",
    "2 & 3  \\\\\n",
    "2 & 4 \\\\\n",
    "3 & 7\n",
    "\\end{bmatrix}\n",
    "$$"
   ]
  },
  {
   "cell_type": "code",
   "execution_count": null,
   "id": "3516384c",
   "metadata": {},
   "outputs": [],
   "source": [
    "%matplotlib notebook\n",
    "\n",
    "from mpl_toolkits.mplot3d import Axes3D\n",
    "fig = plt.figure()\n",
    "ax = fig.add_subplot(projection='3d')\n",
    "ax.set_xlim3d(-10, 10)\n",
    "ax.set_ylim3d(-10, 10)\n",
    "ax.set_zlim3d(-10, 10)\n",
    "ax.quiver(0, 0, 0, 2, 2, 3, color='red')\n",
    "ax.quiver(0, 0, 0, 3, 4, 7)\n",
    "ax.quiver(0, 0, 0, 15, 0, 0, color='gray')\n",
    "ax.quiver(0, 0, 0, 0, 15, 0, color='gray')\n",
    "ax.quiver(0, 0, -0, 0, 0, 15, color='gray', normalize=False)\n",
    "plt.show()"
   ]
  },
  {
   "cell_type": "markdown",
   "id": "0e75698b",
   "metadata": {},
   "source": [
    "$$\n",
    "\\begin{bmatrix}\n",
    "2 & 3 & 5  \\\\\n",
    "2 & 4 & 6 \\\\\n",
    "3 & 7 & 10\n",
    "\\end{bmatrix}\n",
    "$$"
   ]
  },
  {
   "cell_type": "code",
   "execution_count": null,
   "id": "01d5e7ff",
   "metadata": {},
   "outputs": [],
   "source": [
    "fig = plt.figure()\n",
    "ax = fig.add_subplot(projection='3d')\n",
    "ax.set_xlim3d(-10, 10)\n",
    "ax.set_ylim3d(-10, 10)\n",
    "ax.set_zlim3d(-10, 10)\n",
    "ax.quiver(0, 0, 0, 2, 2, 3, color='red')\n",
    "ax.quiver(0, 0, 0, 3, 4, 7)\n",
    "ax.quiver(0, 0, 0, 5, 6, 10, color='orange')\n",
    "ax.quiver(0, 0, 0, 15, 0, 0, color='gray')\n",
    "ax.quiver(0, 0, 0, 0, 15, 0, color='gray')\n",
    "ax.quiver(0, 0, -0, 0, 0, 15, color='gray', normalize=False)\n",
    "plt.show()"
   ]
  },
  {
   "cell_type": "markdown",
   "id": "75e540be",
   "metadata": {},
   "source": [
    "$$\n",
    "¿\\begin{bmatrix}\n",
    "2 & 3 & 5  \\\\\n",
    "2 & 4 & 5 \\\\\n",
    "3 & 7 & 5\n",
    "\\end{bmatrix}\n",
    "?$$  \n",
    "Genera todo el espacio en $R^3$. El \"espacio columna\" de A ha aumentado, debido a que la nueva columna es independiente."
   ]
  },
  {
   "cell_type": "code",
   "execution_count": null,
   "id": "38fe7fc4",
   "metadata": {},
   "outputs": [],
   "source": [
    "fig = plt.figure()\n",
    "ax = fig.add_subplot(projection='3d')\n",
    "ax.set_xlim3d(-10, 10)\n",
    "ax.set_ylim3d(-10, 10)\n",
    "ax.set_zlim3d(-10, 10)\n",
    "ax.quiver(0, 0, 0, 2, 2, 3, color='red')\n",
    "ax.quiver(0, 0, 0, 3, 4, 7)\n",
    "ax.quiver(0, 0, 0, 5, 5, 5, color='orange')\n",
    "ax.quiver(0, 0, 0, 15, 0, 0, color='gray')\n",
    "ax.quiver(0, 0, 0, 0, 15, 0, color='gray')\n",
    "ax.quiver(0, 0, -0, 0, 0, 15, color='gray', normalize=False)\n",
    "plt.show()"
   ]
  },
  {
   "cell_type": "markdown",
   "id": "f441fc02",
   "metadata": {},
   "source": [
    "**El rango de una matriz será la dimensión de su \"espacio columna**"
   ]
  },
  {
   "cell_type": "markdown",
   "id": "61cbfedc",
   "metadata": {},
   "source": [
    "$$A = \n",
    "\\begin{bmatrix}\n",
    "1 & 3 & 5  \\\\\n",
    "1 & 3 & 5 \\\\\n",
    "1 & 3 & 5\n",
    "\\end{bmatrix}\n",
    "= \\begin{bmatrix}\n",
    "1 \\\\\n",
    "1 \\\\\n",
    "1\n",
    "\\end{bmatrix}\n",
    "\\begin{bmatrix}\n",
    "1 & 3 & 5  \\\\\n",
    "\\end{bmatrix}\n",
    "= CR\n",
    "$$  \n",
    "**El número de columnas independientes es igual al número de filas independientes**  \n",
    "\n",
    "\n",
    "Factorizaciones importantes:\n",
    "- $A=LU$ : $L$ y $U$ son matrices triangulares\n",
    "- $A=QR$ : $Q$ tiene columnas ortonormales y $R$ es triangular superior\n",
    "- $S=Q\\Lambda Q^T$ : $S$ es una matriz simmétrica y $\\Lambda$ tiene eigenvalores\n",
    "- $A=X\\Lambda X^{-1}$ : eigenvalores y eigenvectores\n",
    "- $A=U\\Sigma V^T$ : SVD"
   ]
  },
  {
   "cell_type": "markdown",
   "id": "ae0c4015",
   "metadata": {},
   "source": [
    "Regresando a nuestro problema original  \n",
    "$$ Ax = b $$  \n",
    "\n",
    "**Sistemas de ecuaciones lineales**\n",
    "Una ecuación lineal es una igualdad que tiene la forma:  \n",
    "$\\sum{a_i x_i}=y$  \n",
    "Un sistema de ecuaciones lineales es un set de ecuaciones lineales que comparten las mismas variables. Por ejemplo:  \n",
    "$a_1x_1 + a_2x_2 = y_1$  \n",
    "$a_3x_1 + a_4x_2 = y_2$  \n",
    "\n",
    "La forma matricial de un sistema de ecuaciones lineales se expresa como $Ax=y$  \n",
    "$\\begin{bmatrix}\n",
    "a_{1,1} & a_{1,2} & \\dots & a_{1,n}\\\\\n",
    "a_{2,1} & a_{2,2} & \\dots & a_{2,n}\\\\\n",
    "\\vdots & \\vdots & \\ddots & \\vdots\\\\\n",
    "a_{m,1} & a_{m,2} & \\dots & a_{m,n}\n",
    "\\end{bmatrix}\n",
    "\\begin{bmatrix}\n",
    "x_{1}\\\\\n",
    "x_{2}\\\\\n",
    "\\vdots\\\\\n",
    "x_{m}\n",
    "\\end{bmatrix} \n",
    "=\n",
    "\\begin{bmatrix}\n",
    "y_{1}\\\\\n",
    "y_{2}\\\\\n",
    "\\vdots\\\\\n",
    "y_{m}\n",
    "\\end{bmatrix} $  \n",
    "\n",
    "Soluciones a sistemas de ecuaciones lineales:  \n",
    "- Caso 1: No hay solución -> rango([A,y]) = rango(A)+1\n",
    "- Caso 2: Existe una única solución -> rango([A,y]) = rango(A)\n",
    "- Caso 3: Existen infinitas soluciones -> rango([A,y]) = rango(A) & rango(A) < n   \n",
    "\n",
    "Si tenemos un sistema como el anterior $Ax=y$ donde $A$ es una matriz de $m \\times n$ significa que tenemos un sistema con $m$ ecuaciones y $n$ incógnitas."
   ]
  },
  {
   "cell_type": "markdown",
   "id": "5d841aa5",
   "metadata": {},
   "source": [
    "Por ejemplo,\n",
    "\\begin{align*}\n",
    "x-2y&=2\\\\\n",
    "2x+3y&=9\\\\\n",
    "\\end{align*}"
   ]
  },
  {
   "cell_type": "code",
   "execution_count": null,
   "id": "befba371",
   "metadata": {},
   "outputs": [],
   "source": []
  },
  {
   "attachments": {
    "image.png": {
     "image/png": "[encoded data removed]"
    }
   },
   "cell_type": "markdown",
   "id": "a06ead9c",
   "metadata": {},
   "source": [
    "**¿Cómo se resuelven?**\n",
    "- Método de eliminación gaussiana\n",
    "![image.png](attachment:image.png)"
   ]
  },
  {
   "cell_type": "markdown",
   "id": "702ec5e5",
   "metadata": {},
   "source": [
    "## Construcción de curva de tasas de interés ##"
   ]
  },
  {
   "cell_type": "markdown",
   "id": "edd5847c",
   "metadata": {},
   "source": [
    "Un **bono** es un préstamo a la entidad emisora de deuda.  En un bono tradicional (bono bullet), el emisor de deuda paga al comprador del bono flujos periódicos de interés (llamados **cupones**), durante la vigencia de la deuda; adicionalmente al vencimiento se reintegra el monto prestado. \n",
    "\n",
    "En la emisión de un bono, deben especificarse los siguientes puntos: \n",
    "- Plazo de la deuda, term to maturity. \n",
    "- Tipo de cupón: fijo o flotante. \n",
    "- Tasa de referencia en caso de pagar cupón flotante (Cetes, TIIE, etc.) \n",
    "- 𝑐: Tasa cupón si se trata de cupón fijo, o sobretasa de cupón si se trata de cupón flotante. \n",
    "- 𝑚: Numero de cupones pagados en el año. Fracción de año = (1/𝑚) \n",
    "- 𝑁: Valor Nominal, regularmente igual a 100. \n",
    "- Amortización: A vencimiento (bullet) o bajo algún esquema de decremento o aumento del principal. "
   ]
  },
  {
   "cell_type": "markdown",
   "id": "16ab00e6",
   "metadata": {},
   "source": [
    "![Bonos Gub](img/bonos_mex.png)"
   ]
  },
  {
   "attachments": {
    "image.png": {
     "image/png": "[encoded data removed]"
    }
   },
   "cell_type": "markdown",
   "id": "2679a9c3",
   "metadata": {},
   "source": [
    "![image.png](attachment:image.png)"
   ]
  },
  {
   "cell_type": "markdown",
   "id": "d60c157e",
   "metadata": {},
   "source": [
    "**Precio CETES:**  \n",
    "$ PV = \\large \\frac {VN}{1+r*n/360} $  \n",
    "\n",
    "**Precio MBONO:**  \n",
    "![Precio MBONO](img/precio_mbono.png)"
   ]
  },
  {
   "cell_type": "markdown",
   "id": "513b25a6",
   "metadata": {},
   "source": [
    "## Construcción de Curva Yield ##\n",
    "**Bootstrapping**: Método para extraer tasas cupón cero a partir de instrumentos cuponados"
   ]
  },
  {
   "cell_type": "code",
   "execution_count": null,
   "id": "22343b67",
   "metadata": {},
   "outputs": [],
   "source": [
    "bonos = pd.DataFrame({\n",
    "    'Bono': [\"A\", \"B\", \"C\", \"D\"],\n",
    "    'Precio': [947.38, 904.44, 981.00, 976.99],\n",
    "    'Valor Nominal': [1000,1000,1000, 1000],\n",
    "    'Tasa Cupon': [\"5%\",\"6%\",\"9%\", \"8%\"],\n",
    "    'Años a Vencimiento': [1,2,3,4]\n",
    "})\n",
    "\n",
    "bonos"
   ]
  },
  {
   "cell_type": "markdown",
   "id": "989c8a24",
   "metadata": {},
   "source": [
    "Supongamos que los bonos tienen pagos anuales y las tasas son anuales.\n",
    "$$947.38 = 1050\\cdot df_1$$  \n",
    "$$904.44 = 60\\cdot df_1 + 1060 \\cdot df_2$$  \n",
    "$$981.00 = 90\\cdot df_1 + 90 \\cdot df_2 + 1090 \\cdot df_3$$  "
   ]
  },
  {
   "cell_type": "markdown",
   "id": "0a032a92",
   "metadata": {},
   "source": [
    "# Eigendescomposición\n",
    "Definida solo para matrices cuadradas. El objetivo es extraer dos sets de features de una matriz: sus eigenvalores y eigenvectores"
   ]
  },
  {
   "cell_type": "code",
   "execution_count": null,
   "id": "7cc9bf8b",
   "metadata": {},
   "outputs": [],
   "source": [
    "A = np.array([\n",
    "    [1,2],\n",
    "    [2,4]\n",
    "])\n",
    "\n",
    "x = np.array([0.2,0.4])\n",
    "\n",
    "plt.figure(figsize=(8,4))\n",
    "plt.arrow(0, 0, *x, width=0.03, length_includes_head=True,\n",
    "          color=\"blue\", )\n",
    "print(A@x)\n",
    "plt.arrow(0, 0, *(A@x), width=0.03, length_includes_head=True,\n",
    "          color=\"red\", )\n",
    "\n",
    "plt.show()"
   ]
  },
  {
   "cell_type": "markdown",
   "id": "890ab1ac",
   "metadata": {},
   "source": [
    "**Ecuación fundamental de eigenvalores:**  \n",
    "**$Av=\\lambda v$**  \n",
    "\n",
    "Para obtener los eigenvalores y eigenvectores se puede utilizar la ecuación característica:  \n",
    "$ (A-\\lambda I)v=0 $  \n",
    "$ det(A-\\lambda I)=0 $"
   ]
  },
  {
   "cell_type": "code",
   "execution_count": null,
   "id": "f9020ff2",
   "metadata": {},
   "outputs": [],
   "source": [
    "np.linalg.eig(A)\n",
    "print(f\"Eigenvalores: {np.linalg.eig(A)[0]}\")\n",
    "print(f\"Eigenvectores: {np.linalg.eig(A)[1]}\")\n",
    "print()\n",
    "print(np.linalg.eig(A)[1][0])\n",
    "print(np.linalg.norm(np.linalg.eig(A)[1][0]))"
   ]
  },
  {
   "cell_type": "markdown",
   "id": "82b703ba",
   "metadata": {},
   "source": [
    "## PCA: Tasas yield de Treasurys ##"
   ]
  },
  {
   "cell_type": "markdown",
   "id": "e8b79c1a",
   "metadata": {},
   "source": [
    "**Principal Components Analysis (PCA)**  \n",
    "El objetivo del PCA es identificar una base tal que cada vector que conforma la base maximiza la covarianza manteniendo la ortogonalidad a todos los demás vectores que conforman la base.  \n",
    "\n",
    "Es un método que sirve para reducir la dimensionalidad de los datos, podemos pensarlo como si proyectaramos una matriz con $m$ columnas en un subespacio con $m$ o menos columnas manteniendo la esencia de los datos originales.  \n",
    "\n",
    "1. Calculamos el promedio de cada columna.\n",
    "2. Centramos los valores de cada columna.\n",
    "3. Calculamos la matriz de covarianza de los datos centrados.\n",
    "4. Calculamos la eigendescomposición de la matriz de covarianza."
   ]
  },
  {
   "cell_type": "markdown",
   "id": "bf9cc9d8",
   "metadata": {},
   "source": [
    "Documentación Quandl para obtener las tasas yield:  \n",
    "https://www.quandl.com/tools/python  \n",
    "https://github.com/quandl/quandl-python/blob/master/FOR_ANALYSTS.md"
   ]
  },
  {
   "cell_type": "markdown",
   "id": "6942e5b9",
   "metadata": {},
   "source": [
    "**Ejemplo: Movimientos en las tasas de interés**\n",
    "![Curvas](img/curves_mov.png)"
   ]
  },
  {
   "cell_type": "code",
   "execution_count": null,
   "id": "4a5eedcd",
   "metadata": {},
   "outputs": [],
   "source": [
    "import quandl\n",
    "# Cargar datos desde quandl\n",
    "df = quandl.get(\"USTREASURY/YIELD\", start_date=\"2017-05-17\", end_date=\"2022-05-17\")\n",
    "df"
   ]
  }
 ],
 "metadata": {
  "kernelspec": {
   "display_name": "Python 3",
   "language": "python",
   "name": "python3"
  },
  "language_info": {
   "codemirror_mode": {
    "name": "ipython",
    "version": 3
   },
   "file_extension": ".py",
   "mimetype": "text/x-python",
   "name": "python",
   "nbconvert_exporter": "python",
   "pygments_lexer": "ipython3",
   "version": "3.9.6"
  }
 },
 "nbformat": 4,
 "nbformat_minor": 5
}
